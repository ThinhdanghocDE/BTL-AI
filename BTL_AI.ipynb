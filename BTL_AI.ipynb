{
  "cells": [
    {
      "cell_type": "markdown",
      "metadata": {
        "id": "view-in-github",
        "colab_type": "text"
      },
      "source": [
        "<a href=\"https://colab.research.google.com/github/ThinhdanghocDE/BTL-AI/blob/main/BTL_AI.ipynb\" target=\"_parent\"><img src=\"https://colab.research.google.com/assets/colab-badge.svg\" alt=\"Open In Colab\"/></a>"
      ]
    },
    {
      "cell_type": "code",
      "source": [
        "!pip install hvplot\n"
      ],
      "metadata": {
        "id": "OqqZfL90nmzf",
        "outputId": "ee8a4e70-402d-4aa6-d9c4-f82b35496ebd",
        "colab": {
          "base_uri": "https://localhost:8080/"
        },
        "collapsed": true
      },
      "id": "OqqZfL90nmzf",
      "execution_count": 9,
      "outputs": [
        {
          "output_type": "stream",
          "name": "stdout",
          "text": [
            "Requirement already satisfied: hvplot in /usr/local/lib/python3.11/dist-packages (0.11.3)\n",
            "Requirement already satisfied: bokeh>=3.1 in /usr/local/lib/python3.11/dist-packages (from hvplot) (3.7.3)\n",
            "Requirement already satisfied: colorcet>=2 in /usr/local/lib/python3.11/dist-packages (from hvplot) (3.1.0)\n",
            "Requirement already satisfied: holoviews>=1.19.0 in /usr/local/lib/python3.11/dist-packages (from hvplot) (1.20.2)\n",
            "Requirement already satisfied: numpy>=1.21 in /usr/local/lib/python3.11/dist-packages (from hvplot) (2.0.2)\n",
            "Requirement already satisfied: packaging in /usr/local/lib/python3.11/dist-packages (from hvplot) (24.2)\n",
            "Requirement already satisfied: pandas>=1.3 in /usr/local/lib/python3.11/dist-packages (from hvplot) (2.2.2)\n",
            "Requirement already satisfied: panel>=1.0 in /usr/local/lib/python3.11/dist-packages (from hvplot) (1.7.1)\n",
            "Requirement already satisfied: param<3.0,>=1.12.0 in /usr/local/lib/python3.11/dist-packages (from hvplot) (2.2.0)\n",
            "Requirement already satisfied: Jinja2>=2.9 in /usr/local/lib/python3.11/dist-packages (from bokeh>=3.1->hvplot) (3.1.6)\n",
            "Requirement already satisfied: contourpy>=1.2 in /usr/local/lib/python3.11/dist-packages (from bokeh>=3.1->hvplot) (1.3.2)\n",
            "Requirement already satisfied: narwhals>=1.13 in /usr/local/lib/python3.11/dist-packages (from bokeh>=3.1->hvplot) (1.41.0)\n",
            "Requirement already satisfied: pillow>=7.1.0 in /usr/local/lib/python3.11/dist-packages (from bokeh>=3.1->hvplot) (11.2.1)\n",
            "Requirement already satisfied: PyYAML>=3.10 in /usr/local/lib/python3.11/dist-packages (from bokeh>=3.1->hvplot) (6.0.2)\n",
            "Requirement already satisfied: tornado>=6.2 in /usr/local/lib/python3.11/dist-packages (from bokeh>=3.1->hvplot) (6.4.2)\n",
            "Requirement already satisfied: xyzservices>=2021.09.1 in /usr/local/lib/python3.11/dist-packages (from bokeh>=3.1->hvplot) (2025.4.0)\n",
            "Requirement already satisfied: pyviz-comms>=2.1 in /usr/local/lib/python3.11/dist-packages (from holoviews>=1.19.0->hvplot) (3.0.4)\n",
            "Requirement already satisfied: python-dateutil>=2.8.2 in /usr/local/lib/python3.11/dist-packages (from pandas>=1.3->hvplot) (2.9.0.post0)\n",
            "Requirement already satisfied: pytz>=2020.1 in /usr/local/lib/python3.11/dist-packages (from pandas>=1.3->hvplot) (2025.2)\n",
            "Requirement already satisfied: tzdata>=2022.7 in /usr/local/lib/python3.11/dist-packages (from pandas>=1.3->hvplot) (2025.2)\n",
            "Requirement already satisfied: bleach in /usr/local/lib/python3.11/dist-packages (from panel>=1.0->hvplot) (6.2.0)\n",
            "Requirement already satisfied: linkify-it-py in /usr/local/lib/python3.11/dist-packages (from panel>=1.0->hvplot) (2.0.3)\n",
            "Requirement already satisfied: markdown in /usr/local/lib/python3.11/dist-packages (from panel>=1.0->hvplot) (3.8)\n",
            "Requirement already satisfied: markdown-it-py in /usr/local/lib/python3.11/dist-packages (from panel>=1.0->hvplot) (3.0.0)\n",
            "Requirement already satisfied: mdit-py-plugins in /usr/local/lib/python3.11/dist-packages (from panel>=1.0->hvplot) (0.4.2)\n",
            "Requirement already satisfied: requests in /usr/local/lib/python3.11/dist-packages (from panel>=1.0->hvplot) (2.32.3)\n",
            "Requirement already satisfied: tqdm in /usr/local/lib/python3.11/dist-packages (from panel>=1.0->hvplot) (4.67.1)\n",
            "Requirement already satisfied: typing-extensions in /usr/local/lib/python3.11/dist-packages (from panel>=1.0->hvplot) (4.14.0)\n",
            "Requirement already satisfied: MarkupSafe>=2.0 in /usr/local/lib/python3.11/dist-packages (from Jinja2>=2.9->bokeh>=3.1->hvplot) (3.0.2)\n",
            "Requirement already satisfied: six>=1.5 in /usr/local/lib/python3.11/dist-packages (from python-dateutil>=2.8.2->pandas>=1.3->hvplot) (1.17.0)\n",
            "Requirement already satisfied: webencodings in /usr/local/lib/python3.11/dist-packages (from bleach->panel>=1.0->hvplot) (0.5.1)\n",
            "Requirement already satisfied: uc-micro-py in /usr/local/lib/python3.11/dist-packages (from linkify-it-py->panel>=1.0->hvplot) (1.0.3)\n",
            "Requirement already satisfied: mdurl~=0.1 in /usr/local/lib/python3.11/dist-packages (from markdown-it-py->panel>=1.0->hvplot) (0.1.2)\n",
            "Requirement already satisfied: charset-normalizer<4,>=2 in /usr/local/lib/python3.11/dist-packages (from requests->panel>=1.0->hvplot) (3.4.2)\n",
            "Requirement already satisfied: idna<4,>=2.5 in /usr/local/lib/python3.11/dist-packages (from requests->panel>=1.0->hvplot) (3.10)\n",
            "Requirement already satisfied: urllib3<3,>=1.21.1 in /usr/local/lib/python3.11/dist-packages (from requests->panel>=1.0->hvplot) (2.4.0)\n",
            "Requirement already satisfied: certifi>=2017.4.17 in /usr/local/lib/python3.11/dist-packages (from requests->panel>=1.0->hvplot) (2025.4.26)\n"
          ]
        }
      ]
    },
    {
      "cell_type": "code",
      "source": [
        "pip install ml-dtypes==0.5.1"
      ],
      "metadata": {
        "id": "7-GRzSr1nme8",
        "outputId": "6ca15976-7151-4321-cb43-630416a4003f",
        "colab": {
          "base_uri": "https://localhost:8080/"
        },
        "collapsed": true
      },
      "id": "7-GRzSr1nme8",
      "execution_count": 10,
      "outputs": [
        {
          "output_type": "stream",
          "name": "stdout",
          "text": [
            "Requirement already satisfied: ml-dtypes==0.5.1 in /usr/local/lib/python3.11/dist-packages (0.5.1)\n",
            "Requirement already satisfied: numpy>=1.21 in /usr/local/lib/python3.11/dist-packages (from ml-dtypes==0.5.1) (2.0.2)\n"
          ]
        }
      ]
    },
    {
      "cell_type": "code",
      "source": [
        "pip install tensorboard==2.19.0"
      ],
      "metadata": {
        "id": "VagbX-UOnyhh",
        "outputId": "3476f811-5689-4edb-df94-62dd7c40c2cf",
        "colab": {
          "base_uri": "https://localhost:8080/"
        },
        "collapsed": true
      },
      "id": "VagbX-UOnyhh",
      "execution_count": 11,
      "outputs": [
        {
          "output_type": "stream",
          "name": "stdout",
          "text": [
            "Requirement already satisfied: tensorboard==2.19.0 in /usr/local/lib/python3.11/dist-packages (2.19.0)\n",
            "Requirement already satisfied: absl-py>=0.4 in /usr/local/lib/python3.11/dist-packages (from tensorboard==2.19.0) (1.4.0)\n",
            "Requirement already satisfied: grpcio>=1.48.2 in /usr/local/lib/python3.11/dist-packages (from tensorboard==2.19.0) (1.72.1)\n",
            "Requirement already satisfied: markdown>=2.6.8 in /usr/local/lib/python3.11/dist-packages (from tensorboard==2.19.0) (3.8)\n",
            "Requirement already satisfied: numpy>=1.12.0 in /usr/local/lib/python3.11/dist-packages (from tensorboard==2.19.0) (2.0.2)\n",
            "Requirement already satisfied: packaging in /usr/local/lib/python3.11/dist-packages (from tensorboard==2.19.0) (24.2)\n",
            "Requirement already satisfied: protobuf!=4.24.0,>=3.19.6 in /usr/local/lib/python3.11/dist-packages (from tensorboard==2.19.0) (5.29.5)\n",
            "Requirement already satisfied: setuptools>=41.0.0 in /usr/local/lib/python3.11/dist-packages (from tensorboard==2.19.0) (75.2.0)\n",
            "Requirement already satisfied: six>1.9 in /usr/local/lib/python3.11/dist-packages (from tensorboard==2.19.0) (1.17.0)\n",
            "Requirement already satisfied: tensorboard-data-server<0.8.0,>=0.7.0 in /usr/local/lib/python3.11/dist-packages (from tensorboard==2.19.0) (0.7.2)\n",
            "Requirement already satisfied: werkzeug>=1.0.1 in /usr/local/lib/python3.11/dist-packages (from tensorboard==2.19.0) (3.1.3)\n",
            "Requirement already satisfied: MarkupSafe>=2.1.1 in /usr/local/lib/python3.11/dist-packages (from werkzeug>=1.0.1->tensorboard==2.19.0) (3.0.2)\n"
          ]
        }
      ]
    },
    {
      "cell_type": "code",
      "source": [
        "pip install tensorflow==2.19.0"
      ],
      "metadata": {
        "id": "dIsOkcKtn2vy",
        "outputId": "eadade4f-3197-420f-ffe8-a4a4f65d1a69",
        "colab": {
          "base_uri": "https://localhost:8080/"
        },
        "collapsed": true
      },
      "id": "dIsOkcKtn2vy",
      "execution_count": 12,
      "outputs": [
        {
          "output_type": "stream",
          "name": "stdout",
          "text": [
            "Requirement already satisfied: tensorflow==2.19.0 in /usr/local/lib/python3.11/dist-packages (2.19.0)\n",
            "Requirement already satisfied: absl-py>=1.0.0 in /usr/local/lib/python3.11/dist-packages (from tensorflow==2.19.0) (1.4.0)\n",
            "Requirement already satisfied: astunparse>=1.6.0 in /usr/local/lib/python3.11/dist-packages (from tensorflow==2.19.0) (1.6.3)\n",
            "Requirement already satisfied: flatbuffers>=24.3.25 in /usr/local/lib/python3.11/dist-packages (from tensorflow==2.19.0) (25.2.10)\n",
            "Requirement already satisfied: gast!=0.5.0,!=0.5.1,!=0.5.2,>=0.2.1 in /usr/local/lib/python3.11/dist-packages (from tensorflow==2.19.0) (0.6.0)\n",
            "Requirement already satisfied: google-pasta>=0.1.1 in /usr/local/lib/python3.11/dist-packages (from tensorflow==2.19.0) (0.2.0)\n",
            "Requirement already satisfied: libclang>=13.0.0 in /usr/local/lib/python3.11/dist-packages (from tensorflow==2.19.0) (18.1.1)\n",
            "Requirement already satisfied: opt-einsum>=2.3.2 in /usr/local/lib/python3.11/dist-packages (from tensorflow==2.19.0) (3.4.0)\n",
            "Requirement already satisfied: packaging in /usr/local/lib/python3.11/dist-packages (from tensorflow==2.19.0) (24.2)\n",
            "Requirement already satisfied: protobuf!=4.21.0,!=4.21.1,!=4.21.2,!=4.21.3,!=4.21.4,!=4.21.5,<6.0.0dev,>=3.20.3 in /usr/local/lib/python3.11/dist-packages (from tensorflow==2.19.0) (5.29.5)\n",
            "Requirement already satisfied: requests<3,>=2.21.0 in /usr/local/lib/python3.11/dist-packages (from tensorflow==2.19.0) (2.32.3)\n",
            "Requirement already satisfied: setuptools in /usr/local/lib/python3.11/dist-packages (from tensorflow==2.19.0) (75.2.0)\n",
            "Requirement already satisfied: six>=1.12.0 in /usr/local/lib/python3.11/dist-packages (from tensorflow==2.19.0) (1.17.0)\n",
            "Requirement already satisfied: termcolor>=1.1.0 in /usr/local/lib/python3.11/dist-packages (from tensorflow==2.19.0) (3.1.0)\n",
            "Requirement already satisfied: typing-extensions>=3.6.6 in /usr/local/lib/python3.11/dist-packages (from tensorflow==2.19.0) (4.14.0)\n",
            "Requirement already satisfied: wrapt>=1.11.0 in /usr/local/lib/python3.11/dist-packages (from tensorflow==2.19.0) (1.17.2)\n",
            "Requirement already satisfied: grpcio<2.0,>=1.24.3 in /usr/local/lib/python3.11/dist-packages (from tensorflow==2.19.0) (1.72.1)\n",
            "Requirement already satisfied: tensorboard~=2.19.0 in /usr/local/lib/python3.11/dist-packages (from tensorflow==2.19.0) (2.19.0)\n",
            "Requirement already satisfied: keras>=3.5.0 in /usr/local/lib/python3.11/dist-packages (from tensorflow==2.19.0) (3.8.0)\n",
            "Requirement already satisfied: numpy<2.2.0,>=1.26.0 in /usr/local/lib/python3.11/dist-packages (from tensorflow==2.19.0) (2.0.2)\n",
            "Requirement already satisfied: h5py>=3.11.0 in /usr/local/lib/python3.11/dist-packages (from tensorflow==2.19.0) (3.13.0)\n",
            "Requirement already satisfied: ml-dtypes<1.0.0,>=0.5.1 in /usr/local/lib/python3.11/dist-packages (from tensorflow==2.19.0) (0.5.1)\n",
            "Requirement already satisfied: tensorflow-io-gcs-filesystem>=0.23.1 in /usr/local/lib/python3.11/dist-packages (from tensorflow==2.19.0) (0.37.1)\n",
            "Requirement already satisfied: wheel<1.0,>=0.23.0 in /usr/local/lib/python3.11/dist-packages (from astunparse>=1.6.0->tensorflow==2.19.0) (0.45.1)\n",
            "Requirement already satisfied: rich in /usr/local/lib/python3.11/dist-packages (from keras>=3.5.0->tensorflow==2.19.0) (13.9.4)\n",
            "Requirement already satisfied: namex in /usr/local/lib/python3.11/dist-packages (from keras>=3.5.0->tensorflow==2.19.0) (0.1.0)\n",
            "Requirement already satisfied: optree in /usr/local/lib/python3.11/dist-packages (from keras>=3.5.0->tensorflow==2.19.0) (0.16.0)\n",
            "Requirement already satisfied: charset-normalizer<4,>=2 in /usr/local/lib/python3.11/dist-packages (from requests<3,>=2.21.0->tensorflow==2.19.0) (3.4.2)\n",
            "Requirement already satisfied: idna<4,>=2.5 in /usr/local/lib/python3.11/dist-packages (from requests<3,>=2.21.0->tensorflow==2.19.0) (3.10)\n",
            "Requirement already satisfied: urllib3<3,>=1.21.1 in /usr/local/lib/python3.11/dist-packages (from requests<3,>=2.21.0->tensorflow==2.19.0) (2.4.0)\n",
            "Requirement already satisfied: certifi>=2017.4.17 in /usr/local/lib/python3.11/dist-packages (from requests<3,>=2.21.0->tensorflow==2.19.0) (2025.4.26)\n",
            "Requirement already satisfied: markdown>=2.6.8 in /usr/local/lib/python3.11/dist-packages (from tensorboard~=2.19.0->tensorflow==2.19.0) (3.8)\n",
            "Requirement already satisfied: tensorboard-data-server<0.8.0,>=0.7.0 in /usr/local/lib/python3.11/dist-packages (from tensorboard~=2.19.0->tensorflow==2.19.0) (0.7.2)\n",
            "Requirement already satisfied: werkzeug>=1.0.1 in /usr/local/lib/python3.11/dist-packages (from tensorboard~=2.19.0->tensorflow==2.19.0) (3.1.3)\n",
            "Requirement already satisfied: MarkupSafe>=2.1.1 in /usr/local/lib/python3.11/dist-packages (from werkzeug>=1.0.1->tensorboard~=2.19.0->tensorflow==2.19.0) (3.0.2)\n",
            "Requirement already satisfied: markdown-it-py>=2.2.0 in /usr/local/lib/python3.11/dist-packages (from rich->keras>=3.5.0->tensorflow==2.19.0) (3.0.0)\n",
            "Requirement already satisfied: pygments<3.0.0,>=2.13.0 in /usr/local/lib/python3.11/dist-packages (from rich->keras>=3.5.0->tensorflow==2.19.0) (2.19.1)\n",
            "Requirement already satisfied: mdurl~=0.1 in /usr/local/lib/python3.11/dist-packages (from markdown-it-py>=2.2.0->rich->keras>=3.5.0->tensorflow==2.19.0) (0.1.2)\n"
          ]
        }
      ]
    },
    {
      "cell_type": "code",
      "source": [
        "from sklearn.preprocessing import StandardScaler\n",
        "import matplotlib.pyplot as plt\n",
        "import os\n",
        "import numpy as np\n",
        "import pandas as pd\n",
        "import statistics\n",
        "import seaborn as sns\n",
        "from sklearn.model_selection import train_test_split\n",
        "from sklearn.metrics import confusion_matrix, classification_report\n",
        "from sklearn import metrics\n",
        "from sklearn import preprocessing\n",
        "import itertools\n",
        "from sklearn.model_selection import validation_curve\n",
        "from xgboost import XGBClassifier\n",
        "import xgboost as xgb\n",
        "from xgboost import plot_importance\n",
        "from sklearn.metrics import accuracy_score\n",
        "from sklearn.model_selection import GridSearchCV\n",
        "from sklearn.metrics import roc_curve, auc\n",
        "from sklearn.ensemble import GradientBoostingClassifier\n",
        "import hvplot.pandas\n",
        "import tensorflow as tf\n",
        "from sklearn.preprocessing import OneHotEncoder"
      ],
      "metadata": {
        "id": "Hz2uV65zndVF",
        "outputId": "cb2cee81-63a3-4270-874e-97aee4f65dc0",
        "colab": {
          "base_uri": "https://localhost:8080/",
          "height": 17
        }
      },
      "id": "Hz2uV65zndVF",
      "execution_count": 14,
      "outputs": [
        {
          "output_type": "display_data",
          "data": {
            "text/html": [
              "<script type=\"esms-options\">{\"shimMode\": true}</script><style>*[data-root-id],\n",
              "*[data-root-id] > * {\n",
              "  box-sizing: border-box;\n",
              "  font-family: var(--jp-ui-font-family);\n",
              "  font-size: var(--jp-ui-font-size1);\n",
              "  color: var(--vscode-editor-foreground, var(--jp-ui-font-color1));\n",
              "}\n",
              "\n",
              "/* Override VSCode background color */\n",
              ".cell-output-ipywidget-background:has(\n",
              "    > .cell-output-ipywidget-background > .lm-Widget > *[data-root-id]\n",
              "  ),\n",
              ".cell-output-ipywidget-background:has(> .lm-Widget > *[data-root-id]) {\n",
              "  background-color: transparent !important;\n",
              "}\n",
              "</style>"
            ]
          },
          "metadata": {}
        },
        {
          "output_type": "display_data",
          "data": {
            "application/javascript": [
              "(function(root) {\n",
              "  function now() {\n",
              "    return new Date();\n",
              "  }\n",
              "\n",
              "  const force = true;\n",
              "  const py_version = '3.7.3'.replace('rc', '-rc.').replace('.dev', '-dev.');\n",
              "  const reloading = false;\n",
              "  const Bokeh = root.Bokeh;\n",
              "\n",
              "  // Set a timeout for this load but only if we are not already initializing\n",
              "  if (typeof (root._bokeh_timeout) === \"undefined\" || (force || !root._bokeh_is_initializing)) {\n",
              "    root._bokeh_timeout = Date.now() + 5000;\n",
              "    root._bokeh_failed_load = false;\n",
              "  }\n",
              "\n",
              "  function run_callbacks() {\n",
              "    try {\n",
              "      root._bokeh_onload_callbacks.forEach(function(callback) {\n",
              "        if (callback != null)\n",
              "          callback();\n",
              "      });\n",
              "    } finally {\n",
              "      delete root._bokeh_onload_callbacks;\n",
              "    }\n",
              "    console.debug(\"Bokeh: all callbacks have finished\");\n",
              "  }\n",
              "\n",
              "  function load_libs(css_urls, js_urls, js_modules, js_exports, callback) {\n",
              "    if (css_urls == null) css_urls = [];\n",
              "    if (js_urls == null) js_urls = [];\n",
              "    if (js_modules == null) js_modules = [];\n",
              "    if (js_exports == null) js_exports = {};\n",
              "\n",
              "    root._bokeh_onload_callbacks.push(callback);\n",
              "\n",
              "    if (root._bokeh_is_loading > 0) {\n",
              "      // Don't load bokeh if it is still initializing\n",
              "      console.debug(\"Bokeh: BokehJS is being loaded, scheduling callback at\", now());\n",
              "      return null;\n",
              "    } else if (js_urls.length === 0 && js_modules.length === 0 && Object.keys(js_exports).length === 0) {\n",
              "      // There is nothing to load\n",
              "      run_callbacks();\n",
              "      return null;\n",
              "    }\n",
              "\n",
              "    function on_load() {\n",
              "      root._bokeh_is_loading--;\n",
              "      if (root._bokeh_is_loading === 0) {\n",
              "        console.debug(\"Bokeh: all BokehJS libraries/stylesheets loaded\");\n",
              "        run_callbacks()\n",
              "      }\n",
              "    }\n",
              "    window._bokeh_on_load = on_load\n",
              "\n",
              "    function on_error(e) {\n",
              "      const src_el = e.srcElement\n",
              "      console.error(\"failed to load \" + (src_el.href || src_el.src));\n",
              "    }\n",
              "\n",
              "    const skip = [];\n",
              "    if (window.requirejs) {\n",
              "      window.requirejs.config({'packages': {}, 'paths': {}, 'shim': {}});\n",
              "      root._bokeh_is_loading = css_urls.length + 0;\n",
              "    } else {\n",
              "      root._bokeh_is_loading = css_urls.length + js_urls.length + js_modules.length + Object.keys(js_exports).length;\n",
              "    }\n",
              "\n",
              "    const existing_stylesheets = []\n",
              "    const links = document.getElementsByTagName('link')\n",
              "    for (let i = 0; i < links.length; i++) {\n",
              "      const link = links[i]\n",
              "      if (link.href != null) {\n",
              "        existing_stylesheets.push(link.href)\n",
              "      }\n",
              "    }\n",
              "    for (let i = 0; i < css_urls.length; i++) {\n",
              "      const url = css_urls[i];\n",
              "      const escaped = encodeURI(url)\n",
              "      if (existing_stylesheets.indexOf(escaped) !== -1) {\n",
              "        on_load()\n",
              "        continue;\n",
              "      }\n",
              "      const element = document.createElement(\"link\");\n",
              "      element.onload = on_load;\n",
              "      element.onerror = on_error;\n",
              "      element.rel = \"stylesheet\";\n",
              "      element.type = \"text/css\";\n",
              "      element.href = url;\n",
              "      console.debug(\"Bokeh: injecting link tag for BokehJS stylesheet: \", url);\n",
              "      document.body.appendChild(element);\n",
              "    }    var existing_scripts = []\n",
              "    const scripts = document.getElementsByTagName('script')\n",
              "    for (let i = 0; i < scripts.length; i++) {\n",
              "      var script = scripts[i]\n",
              "      if (script.src != null) {\n",
              "        existing_scripts.push(script.src)\n",
              "      }\n",
              "    }\n",
              "    for (let i = 0; i < js_urls.length; i++) {\n",
              "      const url = js_urls[i];\n",
              "      const escaped = encodeURI(url)\n",
              "      if (skip.indexOf(escaped) !== -1 || existing_scripts.indexOf(escaped) !== -1) {\n",
              "        if (!window.requirejs) {\n",
              "          on_load();\n",
              "        }\n",
              "        continue;\n",
              "      }\n",
              "      const element = document.createElement('script');\n",
              "      element.onload = on_load;\n",
              "      element.onerror = on_error;\n",
              "      element.async = false;\n",
              "      element.src = url;\n",
              "      console.debug(\"Bokeh: injecting script tag for BokehJS library: \", url);\n",
              "      document.head.appendChild(element);\n",
              "    }\n",
              "    for (let i = 0; i < js_modules.length; i++) {\n",
              "      const url = js_modules[i];\n",
              "      const escaped = encodeURI(url)\n",
              "      if (skip.indexOf(escaped) !== -1 || existing_scripts.indexOf(escaped) !== -1) {\n",
              "        if (!window.requirejs) {\n",
              "          on_load();\n",
              "        }\n",
              "        continue;\n",
              "      }\n",
              "      var element = document.createElement('script');\n",
              "      element.onload = on_load;\n",
              "      element.onerror = on_error;\n",
              "      element.async = false;\n",
              "      element.src = url;\n",
              "      element.type = \"module\";\n",
              "      console.debug(\"Bokeh: injecting script tag for BokehJS library: \", url);\n",
              "      document.head.appendChild(element);\n",
              "    }\n",
              "    for (const name in js_exports) {\n",
              "      const url = js_exports[name];\n",
              "      const escaped = encodeURI(url)\n",
              "      if (skip.indexOf(escaped) >= 0 || root[name] != null) {\n",
              "        if (!window.requirejs) {\n",
              "          on_load();\n",
              "        }\n",
              "        continue;\n",
              "      }\n",
              "      var element = document.createElement('script');\n",
              "      element.onerror = on_error;\n",
              "      element.async = false;\n",
              "      element.type = \"module\";\n",
              "      console.debug(\"Bokeh: injecting script tag for BokehJS library: \", url);\n",
              "      element.textContent = `\n",
              "      import ${name} from \"${url}\"\n",
              "      window.${name} = ${name}\n",
              "      window._bokeh_on_load()\n",
              "      `\n",
              "      document.head.appendChild(element);\n",
              "    }\n",
              "    if (!js_urls.length && !js_modules.length) {\n",
              "      on_load()\n",
              "    }\n",
              "  };\n",
              "\n",
              "  function inject_raw_css(css) {\n",
              "    const element = document.createElement(\"style\");\n",
              "    element.appendChild(document.createTextNode(css));\n",
              "    document.body.appendChild(element);\n",
              "  }\n",
              "\n",
              "  const js_urls = [\"https://cdn.holoviz.org/panel/1.7.1/dist/bundled/reactiveesm/es-module-shims@^1.10.0/dist/es-module-shims.min.js\", \"https://cdn.bokeh.org/bokeh/release/bokeh-3.7.3.min.js\", \"https://cdn.bokeh.org/bokeh/release/bokeh-gl-3.7.3.min.js\", \"https://cdn.bokeh.org/bokeh/release/bokeh-widgets-3.7.3.min.js\", \"https://cdn.bokeh.org/bokeh/release/bokeh-tables-3.7.3.min.js\", \"https://cdn.holoviz.org/panel/1.7.1/dist/panel.min.js\"];\n",
              "  const js_modules = [];\n",
              "  const js_exports = {};\n",
              "  const css_urls = [];\n",
              "  const inline_js = [    function(Bokeh) {\n",
              "      Bokeh.set_log_level(\"info\");\n",
              "    },\n",
              "function(Bokeh) {} // ensure no trailing comma for IE\n",
              "  ];\n",
              "\n",
              "  function run_inline_js() {\n",
              "    if ((root.Bokeh !== undefined) || (force === true)) {\n",
              "      for (let i = 0; i < inline_js.length; i++) {\n",
              "        try {\n",
              "          inline_js[i].call(root, root.Bokeh);\n",
              "        } catch(e) {\n",
              "          if (!reloading) {\n",
              "            throw e;\n",
              "          }\n",
              "        }\n",
              "      }\n",
              "      // Cache old bokeh versions\n",
              "      if (Bokeh != undefined && !reloading) {\n",
              "        var NewBokeh = root.Bokeh;\n",
              "        if (Bokeh.versions === undefined) {\n",
              "          Bokeh.versions = new Map();\n",
              "        }\n",
              "        if (NewBokeh.version !== Bokeh.version) {\n",
              "          Bokeh.versions.set(NewBokeh.version, NewBokeh)\n",
              "        }\n",
              "        root.Bokeh = Bokeh;\n",
              "      }\n",
              "    } else if (Date.now() < root._bokeh_timeout) {\n",
              "      setTimeout(run_inline_js, 100);\n",
              "    } else if (!root._bokeh_failed_load) {\n",
              "      console.log(\"Bokeh: BokehJS failed to load within specified timeout.\");\n",
              "      root._bokeh_failed_load = true;\n",
              "    }\n",
              "    root._bokeh_is_initializing = false\n",
              "  }\n",
              "\n",
              "  function load_or_wait() {\n",
              "    // Implement a backoff loop that tries to ensure we do not load multiple\n",
              "    // versions of Bokeh and its dependencies at the same time.\n",
              "    // In recent versions we use the root._bokeh_is_initializing flag\n",
              "    // to determine whether there is an ongoing attempt to initialize\n",
              "    // bokeh, however for backward compatibility we also try to ensure\n",
              "    // that we do not start loading a newer (Panel>=1.0 and Bokeh>3) version\n",
              "    // before older versions are fully initialized.\n",
              "    if (root._bokeh_is_initializing && Date.now() > root._bokeh_timeout) {\n",
              "      // If the timeout and bokeh was not successfully loaded we reset\n",
              "      // everything and try loading again\n",
              "      root._bokeh_timeout = Date.now() + 5000;\n",
              "      root._bokeh_is_initializing = false;\n",
              "      root._bokeh_onload_callbacks = undefined;\n",
              "      root._bokeh_is_loading = 0\n",
              "      console.log(\"Bokeh: BokehJS was loaded multiple times but one version failed to initialize.\");\n",
              "      load_or_wait();\n",
              "    } else if (root._bokeh_is_initializing || (typeof root._bokeh_is_initializing === \"undefined\" && root._bokeh_onload_callbacks !== undefined)) {\n",
              "      setTimeout(load_or_wait, 100);\n",
              "    } else {\n",
              "      root._bokeh_is_initializing = true\n",
              "      root._bokeh_onload_callbacks = []\n",
              "      const bokeh_loaded = root.Bokeh != null && (root.Bokeh.version === py_version || (root.Bokeh.versions !== undefined && root.Bokeh.versions.has(py_version)));\n",
              "      if (!reloading && !bokeh_loaded) {\n",
              "        if (root.Bokeh) {\n",
              "          root.Bokeh = undefined;\n",
              "        }\n",
              "        console.debug(\"Bokeh: BokehJS not loaded, scheduling load and callback at\", now());\n",
              "      }\n",
              "      load_libs(css_urls, js_urls, js_modules, js_exports, function() {\n",
              "        console.debug(\"Bokeh: BokehJS plotting callback run at\", now());\n",
              "        run_inline_js();\n",
              "      });\n",
              "    }\n",
              "  }\n",
              "  // Give older versions of the autoload script a head-start to ensure\n",
              "  // they initialize before we start loading newer version.\n",
              "  setTimeout(load_or_wait, 100)\n",
              "}(window));"
            ],
            "application/vnd.holoviews_load.v0+json": "(function(root) {\n  function now() {\n    return new Date();\n  }\n\n  const force = true;\n  const py_version = '3.7.3'.replace('rc', '-rc.').replace('.dev', '-dev.');\n  const reloading = false;\n  const Bokeh = root.Bokeh;\n\n  // Set a timeout for this load but only if we are not already initializing\n  if (typeof (root._bokeh_timeout) === \"undefined\" || (force || !root._bokeh_is_initializing)) {\n    root._bokeh_timeout = Date.now() + 5000;\n    root._bokeh_failed_load = false;\n  }\n\n  function run_callbacks() {\n    try {\n      root._bokeh_onload_callbacks.forEach(function(callback) {\n        if (callback != null)\n          callback();\n      });\n    } finally {\n      delete root._bokeh_onload_callbacks;\n    }\n    console.debug(\"Bokeh: all callbacks have finished\");\n  }\n\n  function load_libs(css_urls, js_urls, js_modules, js_exports, callback) {\n    if (css_urls == null) css_urls = [];\n    if (js_urls == null) js_urls = [];\n    if (js_modules == null) js_modules = [];\n    if (js_exports == null) js_exports = {};\n\n    root._bokeh_onload_callbacks.push(callback);\n\n    if (root._bokeh_is_loading > 0) {\n      // Don't load bokeh if it is still initializing\n      console.debug(\"Bokeh: BokehJS is being loaded, scheduling callback at\", now());\n      return null;\n    } else if (js_urls.length === 0 && js_modules.length === 0 && Object.keys(js_exports).length === 0) {\n      // There is nothing to load\n      run_callbacks();\n      return null;\n    }\n\n    function on_load() {\n      root._bokeh_is_loading--;\n      if (root._bokeh_is_loading === 0) {\n        console.debug(\"Bokeh: all BokehJS libraries/stylesheets loaded\");\n        run_callbacks()\n      }\n    }\n    window._bokeh_on_load = on_load\n\n    function on_error(e) {\n      const src_el = e.srcElement\n      console.error(\"failed to load \" + (src_el.href || src_el.src));\n    }\n\n    const skip = [];\n    if (window.requirejs) {\n      window.requirejs.config({'packages': {}, 'paths': {}, 'shim': {}});\n      root._bokeh_is_loading = css_urls.length + 0;\n    } else {\n      root._bokeh_is_loading = css_urls.length + js_urls.length + js_modules.length + Object.keys(js_exports).length;\n    }\n\n    const existing_stylesheets = []\n    const links = document.getElementsByTagName('link')\n    for (let i = 0; i < links.length; i++) {\n      const link = links[i]\n      if (link.href != null) {\n        existing_stylesheets.push(link.href)\n      }\n    }\n    for (let i = 0; i < css_urls.length; i++) {\n      const url = css_urls[i];\n      const escaped = encodeURI(url)\n      if (existing_stylesheets.indexOf(escaped) !== -1) {\n        on_load()\n        continue;\n      }\n      const element = document.createElement(\"link\");\n      element.onload = on_load;\n      element.onerror = on_error;\n      element.rel = \"stylesheet\";\n      element.type = \"text/css\";\n      element.href = url;\n      console.debug(\"Bokeh: injecting link tag for BokehJS stylesheet: \", url);\n      document.body.appendChild(element);\n    }    var existing_scripts = []\n    const scripts = document.getElementsByTagName('script')\n    for (let i = 0; i < scripts.length; i++) {\n      var script = scripts[i]\n      if (script.src != null) {\n        existing_scripts.push(script.src)\n      }\n    }\n    for (let i = 0; i < js_urls.length; i++) {\n      const url = js_urls[i];\n      const escaped = encodeURI(url)\n      if (skip.indexOf(escaped) !== -1 || existing_scripts.indexOf(escaped) !== -1) {\n        if (!window.requirejs) {\n          on_load();\n        }\n        continue;\n      }\n      const element = document.createElement('script');\n      element.onload = on_load;\n      element.onerror = on_error;\n      element.async = false;\n      element.src = url;\n      console.debug(\"Bokeh: injecting script tag for BokehJS library: \", url);\n      document.head.appendChild(element);\n    }\n    for (let i = 0; i < js_modules.length; i++) {\n      const url = js_modules[i];\n      const escaped = encodeURI(url)\n      if (skip.indexOf(escaped) !== -1 || existing_scripts.indexOf(escaped) !== -1) {\n        if (!window.requirejs) {\n          on_load();\n        }\n        continue;\n      }\n      var element = document.createElement('script');\n      element.onload = on_load;\n      element.onerror = on_error;\n      element.async = false;\n      element.src = url;\n      element.type = \"module\";\n      console.debug(\"Bokeh: injecting script tag for BokehJS library: \", url);\n      document.head.appendChild(element);\n    }\n    for (const name in js_exports) {\n      const url = js_exports[name];\n      const escaped = encodeURI(url)\n      if (skip.indexOf(escaped) >= 0 || root[name] != null) {\n        if (!window.requirejs) {\n          on_load();\n        }\n        continue;\n      }\n      var element = document.createElement('script');\n      element.onerror = on_error;\n      element.async = false;\n      element.type = \"module\";\n      console.debug(\"Bokeh: injecting script tag for BokehJS library: \", url);\n      element.textContent = `\n      import ${name} from \"${url}\"\n      window.${name} = ${name}\n      window._bokeh_on_load()\n      `\n      document.head.appendChild(element);\n    }\n    if (!js_urls.length && !js_modules.length) {\n      on_load()\n    }\n  };\n\n  function inject_raw_css(css) {\n    const element = document.createElement(\"style\");\n    element.appendChild(document.createTextNode(css));\n    document.body.appendChild(element);\n  }\n\n  const js_urls = [\"https://cdn.holoviz.org/panel/1.7.1/dist/bundled/reactiveesm/es-module-shims@^1.10.0/dist/es-module-shims.min.js\", \"https://cdn.bokeh.org/bokeh/release/bokeh-3.7.3.min.js\", \"https://cdn.bokeh.org/bokeh/release/bokeh-gl-3.7.3.min.js\", \"https://cdn.bokeh.org/bokeh/release/bokeh-widgets-3.7.3.min.js\", \"https://cdn.bokeh.org/bokeh/release/bokeh-tables-3.7.3.min.js\", \"https://cdn.holoviz.org/panel/1.7.1/dist/panel.min.js\"];\n  const js_modules = [];\n  const js_exports = {};\n  const css_urls = [];\n  const inline_js = [    function(Bokeh) {\n      Bokeh.set_log_level(\"info\");\n    },\nfunction(Bokeh) {} // ensure no trailing comma for IE\n  ];\n\n  function run_inline_js() {\n    if ((root.Bokeh !== undefined) || (force === true)) {\n      for (let i = 0; i < inline_js.length; i++) {\n        try {\n          inline_js[i].call(root, root.Bokeh);\n        } catch(e) {\n          if (!reloading) {\n            throw e;\n          }\n        }\n      }\n      // Cache old bokeh versions\n      if (Bokeh != undefined && !reloading) {\n        var NewBokeh = root.Bokeh;\n        if (Bokeh.versions === undefined) {\n          Bokeh.versions = new Map();\n        }\n        if (NewBokeh.version !== Bokeh.version) {\n          Bokeh.versions.set(NewBokeh.version, NewBokeh)\n        }\n        root.Bokeh = Bokeh;\n      }\n    } else if (Date.now() < root._bokeh_timeout) {\n      setTimeout(run_inline_js, 100);\n    } else if (!root._bokeh_failed_load) {\n      console.log(\"Bokeh: BokehJS failed to load within specified timeout.\");\n      root._bokeh_failed_load = true;\n    }\n    root._bokeh_is_initializing = false\n  }\n\n  function load_or_wait() {\n    // Implement a backoff loop that tries to ensure we do not load multiple\n    // versions of Bokeh and its dependencies at the same time.\n    // In recent versions we use the root._bokeh_is_initializing flag\n    // to determine whether there is an ongoing attempt to initialize\n    // bokeh, however for backward compatibility we also try to ensure\n    // that we do not start loading a newer (Panel>=1.0 and Bokeh>3) version\n    // before older versions are fully initialized.\n    if (root._bokeh_is_initializing && Date.now() > root._bokeh_timeout) {\n      // If the timeout and bokeh was not successfully loaded we reset\n      // everything and try loading again\n      root._bokeh_timeout = Date.now() + 5000;\n      root._bokeh_is_initializing = false;\n      root._bokeh_onload_callbacks = undefined;\n      root._bokeh_is_loading = 0\n      console.log(\"Bokeh: BokehJS was loaded multiple times but one version failed to initialize.\");\n      load_or_wait();\n    } else if (root._bokeh_is_initializing || (typeof root._bokeh_is_initializing === \"undefined\" && root._bokeh_onload_callbacks !== undefined)) {\n      setTimeout(load_or_wait, 100);\n    } else {\n      root._bokeh_is_initializing = true\n      root._bokeh_onload_callbacks = []\n      const bokeh_loaded = root.Bokeh != null && (root.Bokeh.version === py_version || (root.Bokeh.versions !== undefined && root.Bokeh.versions.has(py_version)));\n      if (!reloading && !bokeh_loaded) {\n        if (root.Bokeh) {\n          root.Bokeh = undefined;\n        }\n        console.debug(\"Bokeh: BokehJS not loaded, scheduling load and callback at\", now());\n      }\n      load_libs(css_urls, js_urls, js_modules, js_exports, function() {\n        console.debug(\"Bokeh: BokehJS plotting callback run at\", now());\n        run_inline_js();\n      });\n    }\n  }\n  // Give older versions of the autoload script a head-start to ensure\n  // they initialize before we start loading newer version.\n  setTimeout(load_or_wait, 100)\n}(window));"
          },
          "metadata": {}
        },
        {
          "output_type": "display_data",
          "data": {
            "application/vnd.holoviews_load.v0+json": "\nif ((window.PyViz === undefined) || (window.PyViz instanceof HTMLElement)) {\n  window.PyViz = {comms: {}, comm_status:{}, kernels:{}, receivers: {}, plot_index: []}\n}\n\n\n    function JupyterCommManager() {\n    }\n\n    JupyterCommManager.prototype.register_target = function(plot_id, comm_id, msg_handler) {\n      if (window.comm_manager || ((window.Jupyter !== undefined) && (Jupyter.notebook.kernel != null))) {\n        var comm_manager = window.comm_manager || Jupyter.notebook.kernel.comm_manager;\n        comm_manager.register_target(comm_id, function(comm) {\n          comm.on_msg(msg_handler);\n        });\n      } else if ((plot_id in window.PyViz.kernels) && (window.PyViz.kernels[plot_id])) {\n        window.PyViz.kernels[plot_id].registerCommTarget(comm_id, function(comm) {\n          comm.onMsg = msg_handler;\n        });\n      } else if (typeof google != 'undefined' && google.colab.kernel != null) {\n        google.colab.kernel.comms.registerTarget(comm_id, (comm) => {\n          var messages = comm.messages[Symbol.asyncIterator]();\n          function processIteratorResult(result) {\n            var message = result.value;\n            console.log(message)\n            var content = {data: message.data, comm_id};\n            var buffers = []\n            for (var buffer of message.buffers || []) {\n              buffers.push(new DataView(buffer))\n            }\n            var metadata = message.metadata || {};\n            var msg = {content, buffers, metadata}\n            msg_handler(msg);\n            return messages.next().then(processIteratorResult);\n          }\n          return messages.next().then(processIteratorResult);\n        })\n      }\n    }\n\n    JupyterCommManager.prototype.get_client_comm = function(plot_id, comm_id, msg_handler) {\n      if (comm_id in window.PyViz.comms) {\n        return window.PyViz.comms[comm_id];\n      } else if (window.comm_manager || ((window.Jupyter !== undefined) && (Jupyter.notebook.kernel != null))) {\n        var comm_manager = window.comm_manager || Jupyter.notebook.kernel.comm_manager;\n        var comm = comm_manager.new_comm(comm_id, {}, {}, {}, comm_id);\n        if (msg_handler) {\n          comm.on_msg(msg_handler);\n        }\n      } else if ((plot_id in window.PyViz.kernels) && (window.PyViz.kernels[plot_id])) {\n        var comm = window.PyViz.kernels[plot_id].connectToComm(comm_id);\n        comm.open();\n        if (msg_handler) {\n          comm.onMsg = msg_handler;\n        }\n      } else if (typeof google != 'undefined' && google.colab.kernel != null) {\n        var comm_promise = google.colab.kernel.comms.open(comm_id)\n        comm_promise.then((comm) => {\n          window.PyViz.comms[comm_id] = comm;\n          if (msg_handler) {\n            var messages = comm.messages[Symbol.asyncIterator]();\n            function processIteratorResult(result) {\n              var message = result.value;\n              var content = {data: message.data};\n              var metadata = message.metadata || {comm_id};\n              var msg = {content, metadata}\n              msg_handler(msg);\n              return messages.next().then(processIteratorResult);\n            }\n            return messages.next().then(processIteratorResult);\n          }\n        })\n        var sendClosure = (data, metadata, buffers, disposeOnDone) => {\n          return comm_promise.then((comm) => {\n            comm.send(data, metadata, buffers, disposeOnDone);\n          });\n        };\n        var comm = {\n          send: sendClosure\n        };\n      }\n      window.PyViz.comms[comm_id] = comm;\n      return comm;\n    }\n    window.PyViz.comm_manager = new JupyterCommManager();\n    \n\n\nvar JS_MIME_TYPE = 'application/javascript';\nvar HTML_MIME_TYPE = 'text/html';\nvar EXEC_MIME_TYPE = 'application/vnd.holoviews_exec.v0+json';\nvar CLASS_NAME = 'output';\n\n/**\n * Render data to the DOM node\n */\nfunction render(props, node) {\n  var div = document.createElement(\"div\");\n  var script = document.createElement(\"script\");\n  node.appendChild(div);\n  node.appendChild(script);\n}\n\n/**\n * Handle when a new output is added\n */\nfunction handle_add_output(event, handle) {\n  var output_area = handle.output_area;\n  var output = handle.output;\n  if ((output.data == undefined) || (!output.data.hasOwnProperty(EXEC_MIME_TYPE))) {\n    return\n  }\n  var id = output.metadata[EXEC_MIME_TYPE][\"id\"];\n  var toinsert = output_area.element.find(\".\" + CLASS_NAME.split(' ')[0]);\n  if (id !== undefined) {\n    var nchildren = toinsert.length;\n    var html_node = toinsert[nchildren-1].children[0];\n    html_node.innerHTML = output.data[HTML_MIME_TYPE];\n    var scripts = [];\n    var nodelist = html_node.querySelectorAll(\"script\");\n    for (var i in nodelist) {\n      if (nodelist.hasOwnProperty(i)) {\n        scripts.push(nodelist[i])\n      }\n    }\n\n    scripts.forEach( function (oldScript) {\n      var newScript = document.createElement(\"script\");\n      var attrs = [];\n      var nodemap = oldScript.attributes;\n      for (var j in nodemap) {\n        if (nodemap.hasOwnProperty(j)) {\n          attrs.push(nodemap[j])\n        }\n      }\n      attrs.forEach(function(attr) { newScript.setAttribute(attr.name, attr.value) });\n      newScript.appendChild(document.createTextNode(oldScript.innerHTML));\n      oldScript.parentNode.replaceChild(newScript, oldScript);\n    });\n    if (JS_MIME_TYPE in output.data) {\n      toinsert[nchildren-1].children[1].textContent = output.data[JS_MIME_TYPE];\n    }\n    output_area._hv_plot_id = id;\n    if ((window.Bokeh !== undefined) && (id in Bokeh.index)) {\n      window.PyViz.plot_index[id] = Bokeh.index[id];\n    } else {\n      window.PyViz.plot_index[id] = null;\n    }\n  } else if (output.metadata[EXEC_MIME_TYPE][\"server_id\"] !== undefined) {\n    var bk_div = document.createElement(\"div\");\n    bk_div.innerHTML = output.data[HTML_MIME_TYPE];\n    var script_attrs = bk_div.children[0].attributes;\n    for (var i = 0; i < script_attrs.length; i++) {\n      toinsert[toinsert.length - 1].childNodes[1].setAttribute(script_attrs[i].name, script_attrs[i].value);\n    }\n    // store reference to server id on output_area\n    output_area._bokeh_server_id = output.metadata[EXEC_MIME_TYPE][\"server_id\"];\n  }\n}\n\n/**\n * Handle when an output is cleared or removed\n */\nfunction handle_clear_output(event, handle) {\n  var id = handle.cell.output_area._hv_plot_id;\n  var server_id = handle.cell.output_area._bokeh_server_id;\n  if (((id === undefined) || !(id in PyViz.plot_index)) && (server_id !== undefined)) { return; }\n  var comm = window.PyViz.comm_manager.get_client_comm(\"hv-extension-comm\", \"hv-extension-comm\", function () {});\n  if (server_id !== null) {\n    comm.send({event_type: 'server_delete', 'id': server_id});\n    return;\n  } else if (comm !== null) {\n    comm.send({event_type: 'delete', 'id': id});\n  }\n  delete PyViz.plot_index[id];\n  if ((window.Bokeh !== undefined) & (id in window.Bokeh.index)) {\n    var doc = window.Bokeh.index[id].model.document\n    doc.clear();\n    const i = window.Bokeh.documents.indexOf(doc);\n    if (i > -1) {\n      window.Bokeh.documents.splice(i, 1);\n    }\n  }\n}\n\n/**\n * Handle kernel restart event\n */\nfunction handle_kernel_cleanup(event, handle) {\n  delete PyViz.comms[\"hv-extension-comm\"];\n  window.PyViz.plot_index = {}\n}\n\n/**\n * Handle update_display_data messages\n */\nfunction handle_update_output(event, handle) {\n  handle_clear_output(event, {cell: {output_area: handle.output_area}})\n  handle_add_output(event, handle)\n}\n\nfunction register_renderer(events, OutputArea) {\n  function append_mime(data, metadata, element) {\n    // create a DOM node to render to\n    var toinsert = this.create_output_subarea(\n    metadata,\n    CLASS_NAME,\n    EXEC_MIME_TYPE\n    );\n    this.keyboard_manager.register_events(toinsert);\n    // Render to node\n    var props = {data: data, metadata: metadata[EXEC_MIME_TYPE]};\n    render(props, toinsert[0]);\n    element.append(toinsert);\n    return toinsert\n  }\n\n  events.on('output_added.OutputArea', handle_add_output);\n  events.on('output_updated.OutputArea', handle_update_output);\n  events.on('clear_output.CodeCell', handle_clear_output);\n  events.on('delete.Cell', handle_clear_output);\n  events.on('kernel_ready.Kernel', handle_kernel_cleanup);\n\n  OutputArea.prototype.register_mime_type(EXEC_MIME_TYPE, append_mime, {\n    safe: true,\n    index: 0\n  });\n}\n\nif (window.Jupyter !== undefined) {\n  try {\n    var events = require('base/js/events');\n    var OutputArea = require('notebook/js/outputarea').OutputArea;\n    if (OutputArea.prototype.mime_types().indexOf(EXEC_MIME_TYPE) == -1) {\n      register_renderer(events, OutputArea);\n    }\n  } catch(err) {\n  }\n}\n",
            "application/javascript": [
              "\n",
              "if ((window.PyViz === undefined) || (window.PyViz instanceof HTMLElement)) {\n",
              "  window.PyViz = {comms: {}, comm_status:{}, kernels:{}, receivers: {}, plot_index: []}\n",
              "}\n",
              "\n",
              "\n",
              "    function JupyterCommManager() {\n",
              "    }\n",
              "\n",
              "    JupyterCommManager.prototype.register_target = function(plot_id, comm_id, msg_handler) {\n",
              "      if (window.comm_manager || ((window.Jupyter !== undefined) && (Jupyter.notebook.kernel != null))) {\n",
              "        var comm_manager = window.comm_manager || Jupyter.notebook.kernel.comm_manager;\n",
              "        comm_manager.register_target(comm_id, function(comm) {\n",
              "          comm.on_msg(msg_handler);\n",
              "        });\n",
              "      } else if ((plot_id in window.PyViz.kernels) && (window.PyViz.kernels[plot_id])) {\n",
              "        window.PyViz.kernels[plot_id].registerCommTarget(comm_id, function(comm) {\n",
              "          comm.onMsg = msg_handler;\n",
              "        });\n",
              "      } else if (typeof google != 'undefined' && google.colab.kernel != null) {\n",
              "        google.colab.kernel.comms.registerTarget(comm_id, (comm) => {\n",
              "          var messages = comm.messages[Symbol.asyncIterator]();\n",
              "          function processIteratorResult(result) {\n",
              "            var message = result.value;\n",
              "            console.log(message)\n",
              "            var content = {data: message.data, comm_id};\n",
              "            var buffers = []\n",
              "            for (var buffer of message.buffers || []) {\n",
              "              buffers.push(new DataView(buffer))\n",
              "            }\n",
              "            var metadata = message.metadata || {};\n",
              "            var msg = {content, buffers, metadata}\n",
              "            msg_handler(msg);\n",
              "            return messages.next().then(processIteratorResult);\n",
              "          }\n",
              "          return messages.next().then(processIteratorResult);\n",
              "        })\n",
              "      }\n",
              "    }\n",
              "\n",
              "    JupyterCommManager.prototype.get_client_comm = function(plot_id, comm_id, msg_handler) {\n",
              "      if (comm_id in window.PyViz.comms) {\n",
              "        return window.PyViz.comms[comm_id];\n",
              "      } else if (window.comm_manager || ((window.Jupyter !== undefined) && (Jupyter.notebook.kernel != null))) {\n",
              "        var comm_manager = window.comm_manager || Jupyter.notebook.kernel.comm_manager;\n",
              "        var comm = comm_manager.new_comm(comm_id, {}, {}, {}, comm_id);\n",
              "        if (msg_handler) {\n",
              "          comm.on_msg(msg_handler);\n",
              "        }\n",
              "      } else if ((plot_id in window.PyViz.kernels) && (window.PyViz.kernels[plot_id])) {\n",
              "        var comm = window.PyViz.kernels[plot_id].connectToComm(comm_id);\n",
              "        comm.open();\n",
              "        if (msg_handler) {\n",
              "          comm.onMsg = msg_handler;\n",
              "        }\n",
              "      } else if (typeof google != 'undefined' && google.colab.kernel != null) {\n",
              "        var comm_promise = google.colab.kernel.comms.open(comm_id)\n",
              "        comm_promise.then((comm) => {\n",
              "          window.PyViz.comms[comm_id] = comm;\n",
              "          if (msg_handler) {\n",
              "            var messages = comm.messages[Symbol.asyncIterator]();\n",
              "            function processIteratorResult(result) {\n",
              "              var message = result.value;\n",
              "              var content = {data: message.data};\n",
              "              var metadata = message.metadata || {comm_id};\n",
              "              var msg = {content, metadata}\n",
              "              msg_handler(msg);\n",
              "              return messages.next().then(processIteratorResult);\n",
              "            }\n",
              "            return messages.next().then(processIteratorResult);\n",
              "          }\n",
              "        })\n",
              "        var sendClosure = (data, metadata, buffers, disposeOnDone) => {\n",
              "          return comm_promise.then((comm) => {\n",
              "            comm.send(data, metadata, buffers, disposeOnDone);\n",
              "          });\n",
              "        };\n",
              "        var comm = {\n",
              "          send: sendClosure\n",
              "        };\n",
              "      }\n",
              "      window.PyViz.comms[comm_id] = comm;\n",
              "      return comm;\n",
              "    }\n",
              "    window.PyViz.comm_manager = new JupyterCommManager();\n",
              "    \n",
              "\n",
              "\n",
              "var JS_MIME_TYPE = 'application/javascript';\n",
              "var HTML_MIME_TYPE = 'text/html';\n",
              "var EXEC_MIME_TYPE = 'application/vnd.holoviews_exec.v0+json';\n",
              "var CLASS_NAME = 'output';\n",
              "\n",
              "/**\n",
              " * Render data to the DOM node\n",
              " */\n",
              "function render(props, node) {\n",
              "  var div = document.createElement(\"div\");\n",
              "  var script = document.createElement(\"script\");\n",
              "  node.appendChild(div);\n",
              "  node.appendChild(script);\n",
              "}\n",
              "\n",
              "/**\n",
              " * Handle when a new output is added\n",
              " */\n",
              "function handle_add_output(event, handle) {\n",
              "  var output_area = handle.output_area;\n",
              "  var output = handle.output;\n",
              "  if ((output.data == undefined) || (!output.data.hasOwnProperty(EXEC_MIME_TYPE))) {\n",
              "    return\n",
              "  }\n",
              "  var id = output.metadata[EXEC_MIME_TYPE][\"id\"];\n",
              "  var toinsert = output_area.element.find(\".\" + CLASS_NAME.split(' ')[0]);\n",
              "  if (id !== undefined) {\n",
              "    var nchildren = toinsert.length;\n",
              "    var html_node = toinsert[nchildren-1].children[0];\n",
              "    html_node.innerHTML = output.data[HTML_MIME_TYPE];\n",
              "    var scripts = [];\n",
              "    var nodelist = html_node.querySelectorAll(\"script\");\n",
              "    for (var i in nodelist) {\n",
              "      if (nodelist.hasOwnProperty(i)) {\n",
              "        scripts.push(nodelist[i])\n",
              "      }\n",
              "    }\n",
              "\n",
              "    scripts.forEach( function (oldScript) {\n",
              "      var newScript = document.createElement(\"script\");\n",
              "      var attrs = [];\n",
              "      var nodemap = oldScript.attributes;\n",
              "      for (var j in nodemap) {\n",
              "        if (nodemap.hasOwnProperty(j)) {\n",
              "          attrs.push(nodemap[j])\n",
              "        }\n",
              "      }\n",
              "      attrs.forEach(function(attr) { newScript.setAttribute(attr.name, attr.value) });\n",
              "      newScript.appendChild(document.createTextNode(oldScript.innerHTML));\n",
              "      oldScript.parentNode.replaceChild(newScript, oldScript);\n",
              "    });\n",
              "    if (JS_MIME_TYPE in output.data) {\n",
              "      toinsert[nchildren-1].children[1].textContent = output.data[JS_MIME_TYPE];\n",
              "    }\n",
              "    output_area._hv_plot_id = id;\n",
              "    if ((window.Bokeh !== undefined) && (id in Bokeh.index)) {\n",
              "      window.PyViz.plot_index[id] = Bokeh.index[id];\n",
              "    } else {\n",
              "      window.PyViz.plot_index[id] = null;\n",
              "    }\n",
              "  } else if (output.metadata[EXEC_MIME_TYPE][\"server_id\"] !== undefined) {\n",
              "    var bk_div = document.createElement(\"div\");\n",
              "    bk_div.innerHTML = output.data[HTML_MIME_TYPE];\n",
              "    var script_attrs = bk_div.children[0].attributes;\n",
              "    for (var i = 0; i < script_attrs.length; i++) {\n",
              "      toinsert[toinsert.length - 1].childNodes[1].setAttribute(script_attrs[i].name, script_attrs[i].value);\n",
              "    }\n",
              "    // store reference to server id on output_area\n",
              "    output_area._bokeh_server_id = output.metadata[EXEC_MIME_TYPE][\"server_id\"];\n",
              "  }\n",
              "}\n",
              "\n",
              "/**\n",
              " * Handle when an output is cleared or removed\n",
              " */\n",
              "function handle_clear_output(event, handle) {\n",
              "  var id = handle.cell.output_area._hv_plot_id;\n",
              "  var server_id = handle.cell.output_area._bokeh_server_id;\n",
              "  if (((id === undefined) || !(id in PyViz.plot_index)) && (server_id !== undefined)) { return; }\n",
              "  var comm = window.PyViz.comm_manager.get_client_comm(\"hv-extension-comm\", \"hv-extension-comm\", function () {});\n",
              "  if (server_id !== null) {\n",
              "    comm.send({event_type: 'server_delete', 'id': server_id});\n",
              "    return;\n",
              "  } else if (comm !== null) {\n",
              "    comm.send({event_type: 'delete', 'id': id});\n",
              "  }\n",
              "  delete PyViz.plot_index[id];\n",
              "  if ((window.Bokeh !== undefined) & (id in window.Bokeh.index)) {\n",
              "    var doc = window.Bokeh.index[id].model.document\n",
              "    doc.clear();\n",
              "    const i = window.Bokeh.documents.indexOf(doc);\n",
              "    if (i > -1) {\n",
              "      window.Bokeh.documents.splice(i, 1);\n",
              "    }\n",
              "  }\n",
              "}\n",
              "\n",
              "/**\n",
              " * Handle kernel restart event\n",
              " */\n",
              "function handle_kernel_cleanup(event, handle) {\n",
              "  delete PyViz.comms[\"hv-extension-comm\"];\n",
              "  window.PyViz.plot_index = {}\n",
              "}\n",
              "\n",
              "/**\n",
              " * Handle update_display_data messages\n",
              " */\n",
              "function handle_update_output(event, handle) {\n",
              "  handle_clear_output(event, {cell: {output_area: handle.output_area}})\n",
              "  handle_add_output(event, handle)\n",
              "}\n",
              "\n",
              "function register_renderer(events, OutputArea) {\n",
              "  function append_mime(data, metadata, element) {\n",
              "    // create a DOM node to render to\n",
              "    var toinsert = this.create_output_subarea(\n",
              "    metadata,\n",
              "    CLASS_NAME,\n",
              "    EXEC_MIME_TYPE\n",
              "    );\n",
              "    this.keyboard_manager.register_events(toinsert);\n",
              "    // Render to node\n",
              "    var props = {data: data, metadata: metadata[EXEC_MIME_TYPE]};\n",
              "    render(props, toinsert[0]);\n",
              "    element.append(toinsert);\n",
              "    return toinsert\n",
              "  }\n",
              "\n",
              "  events.on('output_added.OutputArea', handle_add_output);\n",
              "  events.on('output_updated.OutputArea', handle_update_output);\n",
              "  events.on('clear_output.CodeCell', handle_clear_output);\n",
              "  events.on('delete.Cell', handle_clear_output);\n",
              "  events.on('kernel_ready.Kernel', handle_kernel_cleanup);\n",
              "\n",
              "  OutputArea.prototype.register_mime_type(EXEC_MIME_TYPE, append_mime, {\n",
              "    safe: true,\n",
              "    index: 0\n",
              "  });\n",
              "}\n",
              "\n",
              "if (window.Jupyter !== undefined) {\n",
              "  try {\n",
              "    var events = require('base/js/events');\n",
              "    var OutputArea = require('notebook/js/outputarea').OutputArea;\n",
              "    if (OutputArea.prototype.mime_types().indexOf(EXEC_MIME_TYPE) == -1) {\n",
              "      register_renderer(events, OutputArea);\n",
              "    }\n",
              "  } catch(err) {\n",
              "  }\n",
              "}\n"
            ]
          },
          "metadata": {}
        },
        {
          "output_type": "display_data",
          "data": {
            "text/html": [
              "<div id='0a08bea5-4f21-411e-ada9-b7592645cbd4'>\n",
              "  <div id=\"c5deead5-123b-45e6-ab05-d8bf6069495f\" data-root-id=\"0a08bea5-4f21-411e-ada9-b7592645cbd4\" style=\"display: contents;\"></div>\n",
              "</div>\n",
              "<script type=\"application/javascript\">(function(root) {\n",
              "  var docs_json = {\"b7bb9451-c6b8-4fca-a33b-cbd48ef4adf9\":{\"version\":\"3.7.3\",\"title\":\"Bokeh Application\",\"roots\":[{\"type\":\"object\",\"name\":\"panel.models.browser.BrowserInfo\",\"id\":\"0a08bea5-4f21-411e-ada9-b7592645cbd4\"},{\"type\":\"object\",\"name\":\"panel.models.comm_manager.CommManager\",\"id\":\"8c57337e-5968-46eb-8c06-83d124f86502\",\"attributes\":{\"plot_id\":\"0a08bea5-4f21-411e-ada9-b7592645cbd4\",\"comm_id\":\"6c39e64bb85c4553a4180f25567f7fc0\",\"client_comm_id\":\"41c61df311ff4b779dfa1862e899155d\"}}],\"defs\":[{\"type\":\"model\",\"name\":\"ReactiveHTML1\"},{\"type\":\"model\",\"name\":\"FlexBox1\",\"properties\":[{\"name\":\"align_content\",\"kind\":\"Any\",\"default\":\"flex-start\"},{\"name\":\"align_items\",\"kind\":\"Any\",\"default\":\"flex-start\"},{\"name\":\"flex_direction\",\"kind\":\"Any\",\"default\":\"row\"},{\"name\":\"flex_wrap\",\"kind\":\"Any\",\"default\":\"wrap\"},{\"name\":\"gap\",\"kind\":\"Any\",\"default\":\"\"},{\"name\":\"justify_content\",\"kind\":\"Any\",\"default\":\"flex-start\"}]},{\"type\":\"model\",\"name\":\"FloatPanel1\",\"properties\":[{\"name\":\"config\",\"kind\":\"Any\",\"default\":{\"type\":\"map\"}},{\"name\":\"contained\",\"kind\":\"Any\",\"default\":true},{\"name\":\"position\",\"kind\":\"Any\",\"default\":\"right-top\"},{\"name\":\"offsetx\",\"kind\":\"Any\",\"default\":null},{\"name\":\"offsety\",\"kind\":\"Any\",\"default\":null},{\"name\":\"theme\",\"kind\":\"Any\",\"default\":\"primary\"},{\"name\":\"status\",\"kind\":\"Any\",\"default\":\"normalized\"}]},{\"type\":\"model\",\"name\":\"GridStack1\",\"properties\":[{\"name\":\"ncols\",\"kind\":\"Any\",\"default\":null},{\"name\":\"nrows\",\"kind\":\"Any\",\"default\":null},{\"name\":\"allow_resize\",\"kind\":\"Any\",\"default\":true},{\"name\":\"allow_drag\",\"kind\":\"Any\",\"default\":true},{\"name\":\"state\",\"kind\":\"Any\",\"default\":[]}]},{\"type\":\"model\",\"name\":\"drag1\",\"properties\":[{\"name\":\"slider_width\",\"kind\":\"Any\",\"default\":5},{\"name\":\"slider_color\",\"kind\":\"Any\",\"default\":\"black\"},{\"name\":\"value\",\"kind\":\"Any\",\"default\":50}]},{\"type\":\"model\",\"name\":\"click1\",\"properties\":[{\"name\":\"terminal_output\",\"kind\":\"Any\",\"default\":\"\"},{\"name\":\"debug_name\",\"kind\":\"Any\",\"default\":\"\"},{\"name\":\"clears\",\"kind\":\"Any\",\"default\":0}]},{\"type\":\"model\",\"name\":\"FastWrapper1\",\"properties\":[{\"name\":\"object\",\"kind\":\"Any\",\"default\":null},{\"name\":\"style\",\"kind\":\"Any\",\"default\":null}]},{\"type\":\"model\",\"name\":\"NotificationArea1\",\"properties\":[{\"name\":\"js_events\",\"kind\":\"Any\",\"default\":{\"type\":\"map\"}},{\"name\":\"max_notifications\",\"kind\":\"Any\",\"default\":5},{\"name\":\"notifications\",\"kind\":\"Any\",\"default\":[]},{\"name\":\"position\",\"kind\":\"Any\",\"default\":\"bottom-right\"},{\"name\":\"_clear\",\"kind\":\"Any\",\"default\":0},{\"name\":\"types\",\"kind\":\"Any\",\"default\":[{\"type\":\"map\",\"entries\":[[\"type\",\"warning\"],[\"background\",\"#ffc107\"],[\"icon\",{\"type\":\"map\",\"entries\":[[\"className\",\"fas fa-exclamation-triangle\"],[\"tagName\",\"i\"],[\"color\",\"white\"]]}]]},{\"type\":\"map\",\"entries\":[[\"type\",\"info\"],[\"background\",\"#007bff\"],[\"icon\",{\"type\":\"map\",\"entries\":[[\"className\",\"fas fa-info-circle\"],[\"tagName\",\"i\"],[\"color\",\"white\"]]}]]}]}]},{\"type\":\"model\",\"name\":\"Notification\",\"properties\":[{\"name\":\"background\",\"kind\":\"Any\",\"default\":null},{\"name\":\"duration\",\"kind\":\"Any\",\"default\":3000},{\"name\":\"icon\",\"kind\":\"Any\",\"default\":null},{\"name\":\"message\",\"kind\":\"Any\",\"default\":\"\"},{\"name\":\"notification_type\",\"kind\":\"Any\",\"default\":null},{\"name\":\"_rendered\",\"kind\":\"Any\",\"default\":false},{\"name\":\"_destroyed\",\"kind\":\"Any\",\"default\":false}]},{\"type\":\"model\",\"name\":\"TemplateActions1\",\"properties\":[{\"name\":\"open_modal\",\"kind\":\"Any\",\"default\":0},{\"name\":\"close_modal\",\"kind\":\"Any\",\"default\":0}]},{\"type\":\"model\",\"name\":\"BootstrapTemplateActions1\",\"properties\":[{\"name\":\"open_modal\",\"kind\":\"Any\",\"default\":0},{\"name\":\"close_modal\",\"kind\":\"Any\",\"default\":0}]},{\"type\":\"model\",\"name\":\"TemplateEditor1\",\"properties\":[{\"name\":\"layout\",\"kind\":\"Any\",\"default\":[]}]},{\"type\":\"model\",\"name\":\"MaterialTemplateActions1\",\"properties\":[{\"name\":\"open_modal\",\"kind\":\"Any\",\"default\":0},{\"name\":\"close_modal\",\"kind\":\"Any\",\"default\":0}]},{\"type\":\"model\",\"name\":\"ReactiveESM1\",\"properties\":[{\"name\":\"esm_constants\",\"kind\":\"Any\",\"default\":{\"type\":\"map\"}}]},{\"type\":\"model\",\"name\":\"JSComponent1\",\"properties\":[{\"name\":\"esm_constants\",\"kind\":\"Any\",\"default\":{\"type\":\"map\"}}]},{\"type\":\"model\",\"name\":\"ReactComponent1\",\"properties\":[{\"name\":\"esm_constants\",\"kind\":\"Any\",\"default\":{\"type\":\"map\"}}]},{\"type\":\"model\",\"name\":\"AnyWidgetComponent1\",\"properties\":[{\"name\":\"esm_constants\",\"kind\":\"Any\",\"default\":{\"type\":\"map\"}}]},{\"type\":\"model\",\"name\":\"request_value1\",\"properties\":[{\"name\":\"fill\",\"kind\":\"Any\",\"default\":\"none\"},{\"name\":\"_synced\",\"kind\":\"Any\",\"default\":null},{\"name\":\"_request_sync\",\"kind\":\"Any\",\"default\":0}]}]}};\n",
              "  var render_items = [{\"docid\":\"b7bb9451-c6b8-4fca-a33b-cbd48ef4adf9\",\"roots\":{\"0a08bea5-4f21-411e-ada9-b7592645cbd4\":\"c5deead5-123b-45e6-ab05-d8bf6069495f\"},\"root_ids\":[\"0a08bea5-4f21-411e-ada9-b7592645cbd4\"]}];\n",
              "  var docs = Object.values(docs_json)\n",
              "  if (!docs) {\n",
              "    return\n",
              "  }\n",
              "  const py_version = docs[0].version.replace('rc', '-rc.').replace('.dev', '-dev.')\n",
              "  async function embed_document(root) {\n",
              "    var Bokeh = get_bokeh(root)\n",
              "    await Bokeh.embed.embed_items_notebook(docs_json, render_items);\n",
              "    for (const render_item of render_items) {\n",
              "      for (const root_id of render_item.root_ids) {\n",
              "\tconst id_el = document.getElementById(root_id)\n",
              "\tif (id_el.children.length && id_el.children[0].hasAttribute('data-root-id')) {\n",
              "\t  const root_el = id_el.children[0]\n",
              "\t  root_el.id = root_el.id + '-rendered'\n",
              "\t  for (const child of root_el.children) {\n",
              "            // Ensure JupyterLab does not capture keyboard shortcuts\n",
              "            // see: https://jupyterlab.readthedocs.io/en/4.1.x/extension/notebook.html#keyboard-interaction-model\n",
              "\t    child.setAttribute('data-lm-suppress-shortcuts', 'true')\n",
              "\t  }\n",
              "\t}\n",
              "      }\n",
              "    }\n",
              "  }\n",
              "  function get_bokeh(root) {\n",
              "    if (root.Bokeh === undefined) {\n",
              "      return null\n",
              "    } else if (root.Bokeh.version !== py_version) {\n",
              "      if (root.Bokeh.versions === undefined || !root.Bokeh.versions.has(py_version)) {\n",
              "\treturn null\n",
              "      }\n",
              "      return root.Bokeh.versions.get(py_version);\n",
              "    } else if (root.Bokeh.version === py_version) {\n",
              "      return root.Bokeh\n",
              "    }\n",
              "    return null\n",
              "  }\n",
              "  function is_loaded(root) {\n",
              "    var Bokeh = get_bokeh(root)\n",
              "    return (Bokeh != null && Bokeh.Panel !== undefined)\n",
              "  }\n",
              "  if (is_loaded(root)) {\n",
              "    embed_document(root);\n",
              "  } else {\n",
              "    var attempts = 0;\n",
              "    var timer = setInterval(function(root) {\n",
              "      if (is_loaded(root)) {\n",
              "        clearInterval(timer);\n",
              "        embed_document(root);\n",
              "      } else if (document.readyState == \"complete\") {\n",
              "        attempts++;\n",
              "        if (attempts > 200) {\n",
              "          clearInterval(timer);\n",
              "\t  var Bokeh = get_bokeh(root)\n",
              "\t  if (Bokeh == null || Bokeh.Panel == null) {\n",
              "            console.warn(\"Panel: ERROR: Unable to run Panel code because Bokeh or Panel library is missing\");\n",
              "\t  } else {\n",
              "\t    console.warn(\"Panel: WARNING: Attempting to render but not all required libraries could be resolved.\")\n",
              "\t    embed_document(root)\n",
              "\t  }\n",
              "        }\n",
              "      }\n",
              "    }, 25, root)\n",
              "  }\n",
              "})(window);</script>"
            ],
            "application/vnd.holoviews_exec.v0+json": ""
          },
          "metadata": {
            "application/vnd.holoviews_exec.v0+json": {
              "id": "0a08bea5-4f21-411e-ada9-b7592645cbd4"
            }
          }
        }
      ]
    },
    {
      "cell_type": "markdown",
      "source": [],
      "metadata": {
        "id": "MOI4td455R70"
      },
      "id": "MOI4td455R70"
    },
    {
      "cell_type": "markdown",
      "source": [
        "#**PHÂN TÍCH BỘ DỮ LIỆU GỐC**"
      ],
      "metadata": {
        "id": "rT2o_zlK0-Ib"
      },
      "id": "rT2o_zlK0-Ib"
    },
    {
      "cell_type": "markdown",
      "source": [
        "##*Đọc dữ liệu*"
      ],
      "metadata": {
        "id": "V4Oesui73sjX"
      },
      "id": "V4Oesui73sjX"
    },
    {
      "cell_type": "code",
      "source": [
        "df=pd.read_csv(r\"/content/Goc.csv\")\n",
        "df.head(10)"
      ],
      "metadata": {
        "colab": {
          "base_uri": "https://localhost:8080/",
          "height": 383
        },
        "id": "hodxlSjF30Lb",
        "outputId": "b5f4ba2f-82b7-437d-af88-8efdcb345a87"
      },
      "id": "hodxlSjF30Lb",
      "execution_count": 16,
      "outputs": [
        {
          "output_type": "execute_result",
          "data": {
            "text/plain": [
              "   age         job   marital  education default  balance housing loan  \\\n",
              "0   59      admin.   married  secondary      no     2343     yes   no   \n",
              "1   56      admin.   married  secondary      no       45      no   no   \n",
              "2   41  technician   married  secondary      no     1270     yes   no   \n",
              "3   55    services   married  secondary      no     2476     yes   no   \n",
              "4   54      admin.   married   tertiary      no      184      no   no   \n",
              "5   42  management    single   tertiary      no        0     yes  yes   \n",
              "6   56  management   married   tertiary      no      830     yes  yes   \n",
              "7   60     retired  divorced  secondary      no      545     yes   no   \n",
              "8   37  technician   married  secondary      no        1     yes   no   \n",
              "9   28    services    single  secondary      no     5090     yes   no   \n",
              "\n",
              "   contact  day month  duration  campaign  pdays  previous poutcome deposit  \n",
              "0  unknown    5   may      1042         1     -1         0  unknown     yes  \n",
              "1  unknown    5   may      1467         1     -1         0  unknown     yes  \n",
              "2  unknown    5   may      1389         1     -1         0  unknown     yes  \n",
              "3  unknown    5   may       579         1     -1         0  unknown     yes  \n",
              "4  unknown    5   may       673         2     -1         0  unknown     yes  \n",
              "5  unknown    5   may       562         2     -1         0  unknown     yes  \n",
              "6  unknown    6   may      1201         1     -1         0  unknown     yes  \n",
              "7  unknown    6   may      1030         1     -1         0  unknown     yes  \n",
              "8  unknown    6   may       608         1     -1         0  unknown     yes  \n",
              "9  unknown    6   may      1297         3     -1         0  unknown     yes  "
            ],
            "text/html": [
              "\n",
              "  <div id=\"df-8cb11e52-8975-41ad-a6bc-1d808d8d2016\" class=\"colab-df-container\">\n",
              "    <div>\n",
              "<style scoped>\n",
              "    .dataframe tbody tr th:only-of-type {\n",
              "        vertical-align: middle;\n",
              "    }\n",
              "\n",
              "    .dataframe tbody tr th {\n",
              "        vertical-align: top;\n",
              "    }\n",
              "\n",
              "    .dataframe thead th {\n",
              "        text-align: right;\n",
              "    }\n",
              "</style>\n",
              "<table border=\"1\" class=\"dataframe\">\n",
              "  <thead>\n",
              "    <tr style=\"text-align: right;\">\n",
              "      <th></th>\n",
              "      <th>age</th>\n",
              "      <th>job</th>\n",
              "      <th>marital</th>\n",
              "      <th>education</th>\n",
              "      <th>default</th>\n",
              "      <th>balance</th>\n",
              "      <th>housing</th>\n",
              "      <th>loan</th>\n",
              "      <th>contact</th>\n",
              "      <th>day</th>\n",
              "      <th>month</th>\n",
              "      <th>duration</th>\n",
              "      <th>campaign</th>\n",
              "      <th>pdays</th>\n",
              "      <th>previous</th>\n",
              "      <th>poutcome</th>\n",
              "      <th>deposit</th>\n",
              "    </tr>\n",
              "  </thead>\n",
              "  <tbody>\n",
              "    <tr>\n",
              "      <th>0</th>\n",
              "      <td>59</td>\n",
              "      <td>admin.</td>\n",
              "      <td>married</td>\n",
              "      <td>secondary</td>\n",
              "      <td>no</td>\n",
              "      <td>2343</td>\n",
              "      <td>yes</td>\n",
              "      <td>no</td>\n",
              "      <td>unknown</td>\n",
              "      <td>5</td>\n",
              "      <td>may</td>\n",
              "      <td>1042</td>\n",
              "      <td>1</td>\n",
              "      <td>-1</td>\n",
              "      <td>0</td>\n",
              "      <td>unknown</td>\n",
              "      <td>yes</td>\n",
              "    </tr>\n",
              "    <tr>\n",
              "      <th>1</th>\n",
              "      <td>56</td>\n",
              "      <td>admin.</td>\n",
              "      <td>married</td>\n",
              "      <td>secondary</td>\n",
              "      <td>no</td>\n",
              "      <td>45</td>\n",
              "      <td>no</td>\n",
              "      <td>no</td>\n",
              "      <td>unknown</td>\n",
              "      <td>5</td>\n",
              "      <td>may</td>\n",
              "      <td>1467</td>\n",
              "      <td>1</td>\n",
              "      <td>-1</td>\n",
              "      <td>0</td>\n",
              "      <td>unknown</td>\n",
              "      <td>yes</td>\n",
              "    </tr>\n",
              "    <tr>\n",
              "      <th>2</th>\n",
              "      <td>41</td>\n",
              "      <td>technician</td>\n",
              "      <td>married</td>\n",
              "      <td>secondary</td>\n",
              "      <td>no</td>\n",
              "      <td>1270</td>\n",
              "      <td>yes</td>\n",
              "      <td>no</td>\n",
              "      <td>unknown</td>\n",
              "      <td>5</td>\n",
              "      <td>may</td>\n",
              "      <td>1389</td>\n",
              "      <td>1</td>\n",
              "      <td>-1</td>\n",
              "      <td>0</td>\n",
              "      <td>unknown</td>\n",
              "      <td>yes</td>\n",
              "    </tr>\n",
              "    <tr>\n",
              "      <th>3</th>\n",
              "      <td>55</td>\n",
              "      <td>services</td>\n",
              "      <td>married</td>\n",
              "      <td>secondary</td>\n",
              "      <td>no</td>\n",
              "      <td>2476</td>\n",
              "      <td>yes</td>\n",
              "      <td>no</td>\n",
              "      <td>unknown</td>\n",
              "      <td>5</td>\n",
              "      <td>may</td>\n",
              "      <td>579</td>\n",
              "      <td>1</td>\n",
              "      <td>-1</td>\n",
              "      <td>0</td>\n",
              "      <td>unknown</td>\n",
              "      <td>yes</td>\n",
              "    </tr>\n",
              "    <tr>\n",
              "      <th>4</th>\n",
              "      <td>54</td>\n",
              "      <td>admin.</td>\n",
              "      <td>married</td>\n",
              "      <td>tertiary</td>\n",
              "      <td>no</td>\n",
              "      <td>184</td>\n",
              "      <td>no</td>\n",
              "      <td>no</td>\n",
              "      <td>unknown</td>\n",
              "      <td>5</td>\n",
              "      <td>may</td>\n",
              "      <td>673</td>\n",
              "      <td>2</td>\n",
              "      <td>-1</td>\n",
              "      <td>0</td>\n",
              "      <td>unknown</td>\n",
              "      <td>yes</td>\n",
              "    </tr>\n",
              "    <tr>\n",
              "      <th>5</th>\n",
              "      <td>42</td>\n",
              "      <td>management</td>\n",
              "      <td>single</td>\n",
              "      <td>tertiary</td>\n",
              "      <td>no</td>\n",
              "      <td>0</td>\n",
              "      <td>yes</td>\n",
              "      <td>yes</td>\n",
              "      <td>unknown</td>\n",
              "      <td>5</td>\n",
              "      <td>may</td>\n",
              "      <td>562</td>\n",
              "      <td>2</td>\n",
              "      <td>-1</td>\n",
              "      <td>0</td>\n",
              "      <td>unknown</td>\n",
              "      <td>yes</td>\n",
              "    </tr>\n",
              "    <tr>\n",
              "      <th>6</th>\n",
              "      <td>56</td>\n",
              "      <td>management</td>\n",
              "      <td>married</td>\n",
              "      <td>tertiary</td>\n",
              "      <td>no</td>\n",
              "      <td>830</td>\n",
              "      <td>yes</td>\n",
              "      <td>yes</td>\n",
              "      <td>unknown</td>\n",
              "      <td>6</td>\n",
              "      <td>may</td>\n",
              "      <td>1201</td>\n",
              "      <td>1</td>\n",
              "      <td>-1</td>\n",
              "      <td>0</td>\n",
              "      <td>unknown</td>\n",
              "      <td>yes</td>\n",
              "    </tr>\n",
              "    <tr>\n",
              "      <th>7</th>\n",
              "      <td>60</td>\n",
              "      <td>retired</td>\n",
              "      <td>divorced</td>\n",
              "      <td>secondary</td>\n",
              "      <td>no</td>\n",
              "      <td>545</td>\n",
              "      <td>yes</td>\n",
              "      <td>no</td>\n",
              "      <td>unknown</td>\n",
              "      <td>6</td>\n",
              "      <td>may</td>\n",
              "      <td>1030</td>\n",
              "      <td>1</td>\n",
              "      <td>-1</td>\n",
              "      <td>0</td>\n",
              "      <td>unknown</td>\n",
              "      <td>yes</td>\n",
              "    </tr>\n",
              "    <tr>\n",
              "      <th>8</th>\n",
              "      <td>37</td>\n",
              "      <td>technician</td>\n",
              "      <td>married</td>\n",
              "      <td>secondary</td>\n",
              "      <td>no</td>\n",
              "      <td>1</td>\n",
              "      <td>yes</td>\n",
              "      <td>no</td>\n",
              "      <td>unknown</td>\n",
              "      <td>6</td>\n",
              "      <td>may</td>\n",
              "      <td>608</td>\n",
              "      <td>1</td>\n",
              "      <td>-1</td>\n",
              "      <td>0</td>\n",
              "      <td>unknown</td>\n",
              "      <td>yes</td>\n",
              "    </tr>\n",
              "    <tr>\n",
              "      <th>9</th>\n",
              "      <td>28</td>\n",
              "      <td>services</td>\n",
              "      <td>single</td>\n",
              "      <td>secondary</td>\n",
              "      <td>no</td>\n",
              "      <td>5090</td>\n",
              "      <td>yes</td>\n",
              "      <td>no</td>\n",
              "      <td>unknown</td>\n",
              "      <td>6</td>\n",
              "      <td>may</td>\n",
              "      <td>1297</td>\n",
              "      <td>3</td>\n",
              "      <td>-1</td>\n",
              "      <td>0</td>\n",
              "      <td>unknown</td>\n",
              "      <td>yes</td>\n",
              "    </tr>\n",
              "  </tbody>\n",
              "</table>\n",
              "</div>\n",
              "    <div class=\"colab-df-buttons\">\n",
              "\n",
              "  <div class=\"colab-df-container\">\n",
              "    <button class=\"colab-df-convert\" onclick=\"convertToInteractive('df-8cb11e52-8975-41ad-a6bc-1d808d8d2016')\"\n",
              "            title=\"Convert this dataframe to an interactive table.\"\n",
              "            style=\"display:none;\">\n",
              "\n",
              "  <svg xmlns=\"http://www.w3.org/2000/svg\" height=\"24px\" viewBox=\"0 -960 960 960\">\n",
              "    <path d=\"M120-120v-720h720v720H120Zm60-500h600v-160H180v160Zm220 220h160v-160H400v160Zm0 220h160v-160H400v160ZM180-400h160v-160H180v160Zm440 0h160v-160H620v160ZM180-180h160v-160H180v160Zm440 0h160v-160H620v160Z\"/>\n",
              "  </svg>\n",
              "    </button>\n",
              "\n",
              "  <style>\n",
              "    .colab-df-container {\n",
              "      display:flex;\n",
              "      gap: 12px;\n",
              "    }\n",
              "\n",
              "    .colab-df-convert {\n",
              "      background-color: #E8F0FE;\n",
              "      border: none;\n",
              "      border-radius: 50%;\n",
              "      cursor: pointer;\n",
              "      display: none;\n",
              "      fill: #1967D2;\n",
              "      height: 32px;\n",
              "      padding: 0 0 0 0;\n",
              "      width: 32px;\n",
              "    }\n",
              "\n",
              "    .colab-df-convert:hover {\n",
              "      background-color: #E2EBFA;\n",
              "      box-shadow: 0px 1px 2px rgba(60, 64, 67, 0.3), 0px 1px 3px 1px rgba(60, 64, 67, 0.15);\n",
              "      fill: #174EA6;\n",
              "    }\n",
              "\n",
              "    .colab-df-buttons div {\n",
              "      margin-bottom: 4px;\n",
              "    }\n",
              "\n",
              "    [theme=dark] .colab-df-convert {\n",
              "      background-color: #3B4455;\n",
              "      fill: #D2E3FC;\n",
              "    }\n",
              "\n",
              "    [theme=dark] .colab-df-convert:hover {\n",
              "      background-color: #434B5C;\n",
              "      box-shadow: 0px 1px 3px 1px rgba(0, 0, 0, 0.15);\n",
              "      filter: drop-shadow(0px 1px 2px rgba(0, 0, 0, 0.3));\n",
              "      fill: #FFFFFF;\n",
              "    }\n",
              "  </style>\n",
              "\n",
              "    <script>\n",
              "      const buttonEl =\n",
              "        document.querySelector('#df-8cb11e52-8975-41ad-a6bc-1d808d8d2016 button.colab-df-convert');\n",
              "      buttonEl.style.display =\n",
              "        google.colab.kernel.accessAllowed ? 'block' : 'none';\n",
              "\n",
              "      async function convertToInteractive(key) {\n",
              "        const element = document.querySelector('#df-8cb11e52-8975-41ad-a6bc-1d808d8d2016');\n",
              "        const dataTable =\n",
              "          await google.colab.kernel.invokeFunction('convertToInteractive',\n",
              "                                                    [key], {});\n",
              "        if (!dataTable) return;\n",
              "\n",
              "        const docLinkHtml = 'Like what you see? Visit the ' +\n",
              "          '<a target=\"_blank\" href=https://colab.research.google.com/notebooks/data_table.ipynb>data table notebook</a>'\n",
              "          + ' to learn more about interactive tables.';\n",
              "        element.innerHTML = '';\n",
              "        dataTable['output_type'] = 'display_data';\n",
              "        await google.colab.output.renderOutput(dataTable, element);\n",
              "        const docLink = document.createElement('div');\n",
              "        docLink.innerHTML = docLinkHtml;\n",
              "        element.appendChild(docLink);\n",
              "      }\n",
              "    </script>\n",
              "  </div>\n",
              "\n",
              "\n",
              "    <div id=\"df-b283158d-45f7-444a-ad51-753372ecc528\">\n",
              "      <button class=\"colab-df-quickchart\" onclick=\"quickchart('df-b283158d-45f7-444a-ad51-753372ecc528')\"\n",
              "                title=\"Suggest charts\"\n",
              "                style=\"display:none;\">\n",
              "\n",
              "<svg xmlns=\"http://www.w3.org/2000/svg\" height=\"24px\"viewBox=\"0 0 24 24\"\n",
              "     width=\"24px\">\n",
              "    <g>\n",
              "        <path d=\"M19 3H5c-1.1 0-2 .9-2 2v14c0 1.1.9 2 2 2h14c1.1 0 2-.9 2-2V5c0-1.1-.9-2-2-2zM9 17H7v-7h2v7zm4 0h-2V7h2v10zm4 0h-2v-4h2v4z\"/>\n",
              "    </g>\n",
              "</svg>\n",
              "      </button>\n",
              "\n",
              "<style>\n",
              "  .colab-df-quickchart {\n",
              "      --bg-color: #E8F0FE;\n",
              "      --fill-color: #1967D2;\n",
              "      --hover-bg-color: #E2EBFA;\n",
              "      --hover-fill-color: #174EA6;\n",
              "      --disabled-fill-color: #AAA;\n",
              "      --disabled-bg-color: #DDD;\n",
              "  }\n",
              "\n",
              "  [theme=dark] .colab-df-quickchart {\n",
              "      --bg-color: #3B4455;\n",
              "      --fill-color: #D2E3FC;\n",
              "      --hover-bg-color: #434B5C;\n",
              "      --hover-fill-color: #FFFFFF;\n",
              "      --disabled-bg-color: #3B4455;\n",
              "      --disabled-fill-color: #666;\n",
              "  }\n",
              "\n",
              "  .colab-df-quickchart {\n",
              "    background-color: var(--bg-color);\n",
              "    border: none;\n",
              "    border-radius: 50%;\n",
              "    cursor: pointer;\n",
              "    display: none;\n",
              "    fill: var(--fill-color);\n",
              "    height: 32px;\n",
              "    padding: 0;\n",
              "    width: 32px;\n",
              "  }\n",
              "\n",
              "  .colab-df-quickchart:hover {\n",
              "    background-color: var(--hover-bg-color);\n",
              "    box-shadow: 0 1px 2px rgba(60, 64, 67, 0.3), 0 1px 3px 1px rgba(60, 64, 67, 0.15);\n",
              "    fill: var(--button-hover-fill-color);\n",
              "  }\n",
              "\n",
              "  .colab-df-quickchart-complete:disabled,\n",
              "  .colab-df-quickchart-complete:disabled:hover {\n",
              "    background-color: var(--disabled-bg-color);\n",
              "    fill: var(--disabled-fill-color);\n",
              "    box-shadow: none;\n",
              "  }\n",
              "\n",
              "  .colab-df-spinner {\n",
              "    border: 2px solid var(--fill-color);\n",
              "    border-color: transparent;\n",
              "    border-bottom-color: var(--fill-color);\n",
              "    animation:\n",
              "      spin 1s steps(1) infinite;\n",
              "  }\n",
              "\n",
              "  @keyframes spin {\n",
              "    0% {\n",
              "      border-color: transparent;\n",
              "      border-bottom-color: var(--fill-color);\n",
              "      border-left-color: var(--fill-color);\n",
              "    }\n",
              "    20% {\n",
              "      border-color: transparent;\n",
              "      border-left-color: var(--fill-color);\n",
              "      border-top-color: var(--fill-color);\n",
              "    }\n",
              "    30% {\n",
              "      border-color: transparent;\n",
              "      border-left-color: var(--fill-color);\n",
              "      border-top-color: var(--fill-color);\n",
              "      border-right-color: var(--fill-color);\n",
              "    }\n",
              "    40% {\n",
              "      border-color: transparent;\n",
              "      border-right-color: var(--fill-color);\n",
              "      border-top-color: var(--fill-color);\n",
              "    }\n",
              "    60% {\n",
              "      border-color: transparent;\n",
              "      border-right-color: var(--fill-color);\n",
              "    }\n",
              "    80% {\n",
              "      border-color: transparent;\n",
              "      border-right-color: var(--fill-color);\n",
              "      border-bottom-color: var(--fill-color);\n",
              "    }\n",
              "    90% {\n",
              "      border-color: transparent;\n",
              "      border-bottom-color: var(--fill-color);\n",
              "    }\n",
              "  }\n",
              "</style>\n",
              "\n",
              "      <script>\n",
              "        async function quickchart(key) {\n",
              "          const quickchartButtonEl =\n",
              "            document.querySelector('#' + key + ' button');\n",
              "          quickchartButtonEl.disabled = true;  // To prevent multiple clicks.\n",
              "          quickchartButtonEl.classList.add('colab-df-spinner');\n",
              "          try {\n",
              "            const charts = await google.colab.kernel.invokeFunction(\n",
              "                'suggestCharts', [key], {});\n",
              "          } catch (error) {\n",
              "            console.error('Error during call to suggestCharts:', error);\n",
              "          }\n",
              "          quickchartButtonEl.classList.remove('colab-df-spinner');\n",
              "          quickchartButtonEl.classList.add('colab-df-quickchart-complete');\n",
              "        }\n",
              "        (() => {\n",
              "          let quickchartButtonEl =\n",
              "            document.querySelector('#df-b283158d-45f7-444a-ad51-753372ecc528 button');\n",
              "          quickchartButtonEl.style.display =\n",
              "            google.colab.kernel.accessAllowed ? 'block' : 'none';\n",
              "        })();\n",
              "      </script>\n",
              "    </div>\n",
              "\n",
              "    </div>\n",
              "  </div>\n"
            ],
            "application/vnd.google.colaboratory.intrinsic+json": {
              "type": "dataframe",
              "variable_name": "df",
              "summary": "{\n  \"name\": \"df\",\n  \"rows\": 11162,\n  \"fields\": [\n    {\n      \"column\": \"age\",\n      \"properties\": {\n        \"dtype\": \"number\",\n        \"std\": 11,\n        \"min\": 18,\n        \"max\": 95,\n        \"num_unique_values\": 76,\n        \"samples\": [\n          54,\n          47,\n          30\n        ],\n        \"semantic_type\": \"\",\n        \"description\": \"\"\n      }\n    },\n    {\n      \"column\": \"job\",\n      \"properties\": {\n        \"dtype\": \"category\",\n        \"num_unique_values\": 12,\n        \"samples\": [\n          \"self-employed\",\n          \"unknown\",\n          \"admin.\"\n        ],\n        \"semantic_type\": \"\",\n        \"description\": \"\"\n      }\n    },\n    {\n      \"column\": \"marital\",\n      \"properties\": {\n        \"dtype\": \"category\",\n        \"num_unique_values\": 3,\n        \"samples\": [\n          \"married\",\n          \"single\",\n          \"divorced\"\n        ],\n        \"semantic_type\": \"\",\n        \"description\": \"\"\n      }\n    },\n    {\n      \"column\": \"education\",\n      \"properties\": {\n        \"dtype\": \"category\",\n        \"num_unique_values\": 4,\n        \"samples\": [\n          \"tertiary\",\n          \"unknown\",\n          \"secondary\"\n        ],\n        \"semantic_type\": \"\",\n        \"description\": \"\"\n      }\n    },\n    {\n      \"column\": \"default\",\n      \"properties\": {\n        \"dtype\": \"category\",\n        \"num_unique_values\": 2,\n        \"samples\": [\n          \"yes\",\n          \"no\"\n        ],\n        \"semantic_type\": \"\",\n        \"description\": \"\"\n      }\n    },\n    {\n      \"column\": \"balance\",\n      \"properties\": {\n        \"dtype\": \"number\",\n        \"std\": 3225,\n        \"min\": -6847,\n        \"max\": 81204,\n        \"num_unique_values\": 3805,\n        \"samples\": [\n          3026,\n          1792\n        ],\n        \"semantic_type\": \"\",\n        \"description\": \"\"\n      }\n    },\n    {\n      \"column\": \"housing\",\n      \"properties\": {\n        \"dtype\": \"category\",\n        \"num_unique_values\": 2,\n        \"samples\": [\n          \"no\",\n          \"yes\"\n        ],\n        \"semantic_type\": \"\",\n        \"description\": \"\"\n      }\n    },\n    {\n      \"column\": \"loan\",\n      \"properties\": {\n        \"dtype\": \"category\",\n        \"num_unique_values\": 2,\n        \"samples\": [\n          \"yes\",\n          \"no\"\n        ],\n        \"semantic_type\": \"\",\n        \"description\": \"\"\n      }\n    },\n    {\n      \"column\": \"contact\",\n      \"properties\": {\n        \"dtype\": \"category\",\n        \"num_unique_values\": 3,\n        \"samples\": [\n          \"unknown\",\n          \"cellular\"\n        ],\n        \"semantic_type\": \"\",\n        \"description\": \"\"\n      }\n    },\n    {\n      \"column\": \"day\",\n      \"properties\": {\n        \"dtype\": \"number\",\n        \"std\": 8,\n        \"min\": 1,\n        \"max\": 31,\n        \"num_unique_values\": 31,\n        \"samples\": [\n          10,\n          27\n        ],\n        \"semantic_type\": \"\",\n        \"description\": \"\"\n      }\n    },\n    {\n      \"column\": \"month\",\n      \"properties\": {\n        \"dtype\": \"category\",\n        \"num_unique_values\": 12,\n        \"samples\": [\n          \"apr\",\n          \"mar\"\n        ],\n        \"semantic_type\": \"\",\n        \"description\": \"\"\n      }\n    },\n    {\n      \"column\": \"duration\",\n      \"properties\": {\n        \"dtype\": \"number\",\n        \"std\": 347,\n        \"min\": 2,\n        \"max\": 3881,\n        \"num_unique_values\": 1428,\n        \"samples\": [\n          597,\n          346\n        ],\n        \"semantic_type\": \"\",\n        \"description\": \"\"\n      }\n    },\n    {\n      \"column\": \"campaign\",\n      \"properties\": {\n        \"dtype\": \"number\",\n        \"std\": 2,\n        \"min\": 1,\n        \"max\": 63,\n        \"num_unique_values\": 36,\n        \"samples\": [\n          31,\n          7\n        ],\n        \"semantic_type\": \"\",\n        \"description\": \"\"\n      }\n    },\n    {\n      \"column\": \"pdays\",\n      \"properties\": {\n        \"dtype\": \"number\",\n        \"std\": 108,\n        \"min\": -1,\n        \"max\": 854,\n        \"num_unique_values\": 472,\n        \"samples\": [\n          294,\n          148\n        ],\n        \"semantic_type\": \"\",\n        \"description\": \"\"\n      }\n    },\n    {\n      \"column\": \"previous\",\n      \"properties\": {\n        \"dtype\": \"number\",\n        \"std\": 2,\n        \"min\": 0,\n        \"max\": 58,\n        \"num_unique_values\": 34,\n        \"samples\": [\n          30,\n          14\n        ],\n        \"semantic_type\": \"\",\n        \"description\": \"\"\n      }\n    },\n    {\n      \"column\": \"poutcome\",\n      \"properties\": {\n        \"dtype\": \"category\",\n        \"num_unique_values\": 4,\n        \"samples\": [\n          \"other\",\n          \"success\"\n        ],\n        \"semantic_type\": \"\",\n        \"description\": \"\"\n      }\n    },\n    {\n      \"column\": \"deposit\",\n      \"properties\": {\n        \"dtype\": \"category\",\n        \"num_unique_values\": 2,\n        \"samples\": [\n          \"no\",\n          \"yes\"\n        ],\n        \"semantic_type\": \"\",\n        \"description\": \"\"\n      }\n    }\n  ]\n}"
            }
          },
          "metadata": {},
          "execution_count": 16
        }
      ]
    },
    {
      "cell_type": "markdown",
      "source": [
        "##*a) Biểu đồ tần suất của biến mục tiêu deposit*"
      ],
      "metadata": {
        "id": "Rv2iRmk44-NF"
      },
      "id": "Rv2iRmk44-NF"
    },
    {
      "cell_type": "code",
      "source": [
        "import seaborn as sns\n",
        "import matplotlib.pyplot as plt\n",
        "\n",
        "sns.set_style('whitegrid')\n",
        "\n",
        "# Vẽ biểu đồ đếm cho biến 'deposit'\n",
        "plt.figure(figsize=(8, 8))\n",
        "ax = sns.countplot(\n",
        "    x='deposit',\n",
        "    data=df,\n",
        "    hue='deposit',\n",
        "    palette=['#5A9BD5', '#ED7D31'],\n",
        "    order=['no', 'yes'],\n",
        "    legend=False\n",
        ")\n",
        "\n",
        "# Thêm tiêu đề và nhãn\n",
        "plt.title('Phân bố khách hàng có gửi tiền (Deposit)', fontsize=16)\n",
        "plt.xlabel('Khách hàng có gửi tiền không?', fontsize=12)\n",
        "plt.ylabel('Số lượng', fontsize=12)\n",
        "\n",
        "# Hiển thị số lượng và phần trăm BÊN TRONG cột\n",
        "for p in ax.patches:\n",
        "    height = p.get_height()\n",
        "    ax.text(\n",
        "        p.get_x() + p.get_width()/2.,\n",
        "        height * 0.5,  # Giữa cột\n",
        "        f'{int(height)}\\n({height/len(df)*100:.1f}%)',\n",
        "        ha=\"center\", va='center',\n",
        "        fontsize=11, color='white', weight='bold'\n",
        "    )\n",
        "\n",
        "plt.show()\n"
      ],
      "metadata": {
        "id": "4ST9IRMC6DFw"
      },
      "id": "4ST9IRMC6DFw",
      "execution_count": null,
      "outputs": []
    },
    {
      "cell_type": "markdown",
      "source": [
        "Biểu đồ \"Tần suất của biến mục tiêu **deposit**\" được sử dụng để đánh giá sự phân bố giữa các lớp dữ liệu, ở đây cụ thể là khách hàng có gửi tiền tiết kiệm hay không. Kết quả phân tích chỉ ra rằng bộ dữ liệu có sự cân bằng cao giữa hai lớp quyết định của khách hàng.\n",
        "\n",
        "Cụ thể: Có 5.873 mẫu thuộc lớp \"Không gửi tiền\" (chiếm 52.6%) và 5.289 mẫu thuộc lớp \"Gửi tiền\" (chiếm 47.4%).\n",
        "\n",
        "Kết luận: Sự cân bằng gần như 1:1 giữa hai lớp là một điều kiện lý tưởng để huấn luyện mô hình dự đoán. Điều này giúp giảm nguy cơ thiên lệch (bias) về phía nhóm chiếm đa số – một vấn đề thường gây khó khăn trong các bài toán phân loại. Nhờ đó, mô hình có thể học được đặc trưng của cả hai nhóm một cách khách quan hơn, từ đó nâng cao độ chính xác và tính khái quát khi áp dụng vào dữ liệu thực tế."
      ],
      "metadata": {
        "id": "_GKY-I456z1C"
      },
      "id": "_GKY-I456z1C"
    },
    {
      "cell_type": "markdown",
      "source": [
        "## *b) Biểu đồ Tỷ lệ gửi tiền theo Nghề nghiệp*"
      ],
      "metadata": {
        "id": "FubUbQdb9vna"
      },
      "id": "FubUbQdb9vna"
    },
    {
      "cell_type": "code",
      "source": [
        "plt.figure(figsize=(12, 8))\n",
        "\n",
        "# Tạo bảng chéo\n",
        "job_crosstab = pd.crosstab(df['job'], df['deposit'])\n",
        "job_crosstab_pct = job_crosstab.div(job_crosstab.sum(axis=1), axis=0)\n",
        "\n",
        "# Sắp xếp theo tỷ lệ 'yes' giảm dần\n",
        "job_crosstab_pct_sorted = job_crosstab_pct.sort_values(by='yes', ascending=False)\n",
        "\n",
        "# Vẽ biểu đồ stacked bar\n",
        "ax = job_crosstab_pct_sorted.plot(kind='barh', stacked=True, figsize=(12, 8), color=['#5A9BD5', '#ED7D31'])\n",
        "\n",
        "plt.title('Tỷ lệ Gửi tiền theo Nghề nghiệp', fontsize=16)\n",
        "plt.xlabel('Tỷ lệ', fontsize=12)\n",
        "plt.ylabel('Nghề nghiệp', fontsize=12)\n",
        "plt.legend(title='Gửi tiền', labels=['Không', 'Có'])\n",
        "\n",
        "# Thêm giá trị phần trăm lên từng thanh\n",
        "for i, (index, row) in enumerate(job_crosstab_pct_sorted.iterrows()):\n",
        "    left = 0  # vị trí bắt đầu của phần bar màu đầu tiên\n",
        "    for j, col in enumerate(job_crosstab_pct_sorted.columns):\n",
        "        width = row[col]\n",
        "        if width > 0.01:  # chỉ hiện giá trị nếu phần trăm > 1%\n",
        "            ax.text(left + width / 2, i, f'{width:.1%}', ha='center', va='center', color='white', fontsize=10)\n",
        "        left += width\n",
        "\n",
        "plt.show()\n"
      ],
      "metadata": {
        "id": "3Ml7OnsN91Q-"
      },
      "id": "3Ml7OnsN91Q-",
      "execution_count": null,
      "outputs": []
    },
    {
      "cell_type": "markdown",
      "source": [
        "Phân tích biểu đồ cho thấy có một mối liên hệ rõ nét giữa nghề nghiệp của khách hàng và khả năng họ đăng ký sản phẩm tiền gửi. Cụ thể, nhóm \"Sinh viên\", \"Đã nghỉ hưu\" và \"Thất nghiệp\" có tỷ lệ gửi tiền cao nhất trong tất cả các nghề nghiệp được khảo sát. Ngược lại, những khách hàng làm \"Công nhân\" và trong ngành \"Dịch vụ\" lại có tỷ lệ đăng ký thấp hơn hẳn so với mức trung bình.\n",
        "\n",
        "Điều này cho thấy nghề nghiệp là một yếu tố quan trọng giúp phân khúc khách hàng hiệu quả. Dựa trên kết quả này, các chiến dịch marketing nên tập trung nhiều hơn vào những nhóm có tỷ lệ chuyển đổi cao để tận dụng tối đa nguồn lực và nâng cao hiệu quả kinh doanh.\n",
        "\n"
      ],
      "metadata": {
        "id": "LRPoH1tJ_LC2"
      },
      "id": "LRPoH1tJ_LC2"
    },
    {
      "cell_type": "markdown",
      "source": [
        "## *c) Phân tích ảnh hưởng của Tuổi (age) và Thời gian cuộc gọi (duration)*"
      ],
      "metadata": {
        "id": "roY4UIa1LbY2"
      },
      "id": "roY4UIa1LbY2"
    },
    {
      "cell_type": "code",
      "source": [
        "fig, axes = plt.subplots(1, 2, figsize=(18, 10))\n",
        "\n",
        "# Biểu đồ hộp cho Tuổi và Gửi tiền\n",
        "sns.boxplot(x='deposit', y='age', data=df, ax=axes[0], hue = 'deposit', palette=['#5A9BD5', '#ED7D31'], order=['no', 'yes'])\n",
        "axes[0].set_title('Phân bố Tuổi theo Kết quả Gửi tiền', fontsize=14)\n",
        "axes[0].set_xlabel('Có gửi tiền không?', fontsize=12)\n",
        "axes[0].set_ylabel('Tuổi', fontsize=12)\n",
        "\n",
        "# Biểu đồ hộp cho Thời gian cuộc gọi và Gửi tiền\n",
        "sns.boxplot(x='deposit', y='duration', data=df, ax=axes[1], hue = 'deposit', palette=['#5A9BD5', '#ED7D31'], order=['no', 'yes'])\n",
        "axes[1].set_title('Phân bố Thời gian Cuộc gọi theo Kết quả Gửi tiền', fontsize=14)\n",
        "axes[1].set_xlabel('Có gửi tiền không?', fontsize=12)\n",
        "axes[1].set_ylabel('Thời gian cuộc gọi (giây)', fontsize=12)\n",
        "\n",
        "plt.tight_layout()\n",
        "plt.show()"
      ],
      "metadata": {
        "id": "aWBAQjSaLlGe"
      },
      "id": "aWBAQjSaLlGe",
      "execution_count": null,
      "outputs": []
    },
    {
      "cell_type": "markdown",
      "source": [
        "Biểu đồ hộp được dùng để so sánh phân bố của các biến số liên tục là age và duration giữa hai nhóm quyết định \"Gửi tiền\" và \"Không gửi tiền\".\n",
        "\n",
        "Về Tuổi (age): Phân tích cho thấy không có sự khác biệt đáng kể về độ tuổi trung vị (median) giữa hai nhóm khách hàng. Điều này ngụ ý rằng tuổi tác không phải là một yếu tố mang tính quyết định hay phân biệt rõ ràng trong việc đăng ký sản phẩm tiền gửi của ngân hàng trong tập dữ liệu này.\n",
        "\n",
        "Về Thời gian cuộc gọi (duration): Trái ngược với tuổi, thời gian cuộc gọi thể hiện một sự khác biệt mang ý nghĩa thống kê sâu sắc. Nhóm khách hàng quyết định gửi tiền có thời gian đàm thoại (cả giá trị trung vị và khoảng phân vị) cao hơn hẳn so với nhóm từ chối.\n",
        "\n",
        "Kết luận: Thời gian cuộc gọi là một biến dự báo rất quan trọng, có thể phản ánh trực tiếp mức độ quan tâm và sự tương tác tích cực của khách hàng đối với sản phẩm được tư vấn. Trong khi đó, yếu tố tuổi tác lại có ảnh hưởng không đáng kể."
      ],
      "metadata": {
        "id": "Q_i4PEYORelC"
      },
      "id": "Q_i4PEYORelC"
    },
    {
      "cell_type": "markdown",
      "source": [
        "## *d) Biểu đồ so sánh thang đo các biến số*"
      ],
      "metadata": {
        "id": "rYkvB8UzR5Rn"
      },
      "id": "rYkvB8UzR5Rn"
    },
    {
      "cell_type": "code",
      "source": [
        "# Chọn các cột dữ liệu dạng số để vẽ biểu đồ\n",
        "numerical_cols = ['age', 'balance', 'duration', 'campaign', 'pdays', 'previous']\n",
        "df_numerical = df[numerical_cols]\n",
        "\n",
        "# Vẽ biểu đồ\n",
        "plt.figure(figsize=(15, 8))\n",
        "sns.boxplot(data=df_numerical, palette='viridis')\n",
        "plt.title('So sánh Thang đo giữa các Biến số', fontsize=16)\n",
        "plt.ylabel('Giá trị', fontsize=12)\n",
        "plt.xlabel('Các biến số', fontsize=12)\n",
        "plt.show()"
      ],
      "metadata": {
        "id": "rvZJDCSgSkKE"
      },
      "id": "rvZJDCSgSkKE",
      "execution_count": null,
      "outputs": []
    },
    {
      "cell_type": "markdown",
      "source": [
        "Biểu đồ trên mang lại một cái nhìn trực quan và rõ ràng về vấn đề khác biệt thang đo giữa các biến trong tập dữ liệu.\n",
        "\n",
        "1. Sự thống trị của biến balance\n",
        "Biến balance (số dư tài khoản) có phạm vi giá trị và độ biến thiên (variance) lớn vượt trội so với các biến còn lại. Thang đo của nó lên tới hàng nghìn, trong khi hầu hết các biến khác chỉ dao động trong khoảng hàng chục hoặc hàng trăm. Điều này khiến cho biểu đồ hộp (box plot) của các biến còn lại gần như bị \"nén xuống\", rất khó quan sát chi tiết.\n",
        "\n",
        "2. Sự chênh lệch giữa các biến\n",
        "Ngay cả khi loại bỏ balance khỏi biểu đồ, chúng ta vẫn thấy sự khác biệt đáng kể về thang đo giữa các biến. Chẳng hạn, duration (thời gian cuộc gọi) thường có giá trị lên tới hàng trăm giây, trong khi age (tuổi) chủ yếu nằm ở mức vài chục, và các biến như campaign hay previous thường chỉ là những con số nhỏ (dưới 10).\n",
        "\n",
        "3. Vì sao đây là vấn đề nghiêm trọng?\n",
        "Với những mô hình nhạy cảm với khoảng cách như Mạng nơ-ron nhân tạo (ANN), sự khác biệt về thang đo này có thể gây hiểu nhầm nghiêm trọng. Chẳng hạn, một thay đổi nhỏ trong balance sẽ được mô hình coi là quan trọng hơn nhiều so với một thay đổi lớn trong age hay campaign, chỉ vì giá trị tuyệt đối của nó lớn hơn. Điều này không phản ánh đúng bản chất của dữ liệu và có thể khiến mô hình học sai lệch, dẫn đến kết quả không ổn định và kém chính xác.\n",
        "\n",
        "KẾT LUẬN: Biểu đồ đã chỉ ra rất rõ rằng Chuẩn hóa dữ liệu (Data Scaling) là một bước bắt buộc trong quá trình tiền xử lý, đặc biệt khi áp dụng các mô hình học sâu như ANN. Đây không phải là một lựa chọn tùy ý, mà là điều kiện tiên quyết để đảm bảo mô hình có thể học một cách công bằng và hiệu quả từ tất cả các đặc trưng đầu vào.\n"
      ],
      "metadata": {
        "id": "GaQpt4VfTd7D"
      },
      "id": "GaQpt4VfTd7D"
    },
    {
      "cell_type": "markdown",
      "source": [
        "## *e) So ánh tần xuất của các thuộc tính*"
      ],
      "metadata": {
        "id": "jgr3lmmznZMu"
      },
      "id": "jgr3lmmznZMu"
    },
    {
      "cell_type": "code",
      "source": [
        "df_yes = df[df['deposit'] == 'yes']\n",
        "df_no = df[df['deposit'] == 'no']\n",
        "# Vẽ histogram cho nhóm 'yes'\n",
        "plt.figure(figsize=(12, 12))\n",
        "df_yes.hist(figsize=(12, 12))\n",
        "plt.suptitle(\"Tần suất các thuộc tính với khách hàng gửi tiền (deposit = yes)\", fontsize=16)\n",
        "plt.show()"
      ],
      "metadata": {
        "id": "UAqmsiMbgikT"
      },
      "id": "UAqmsiMbgikT",
      "execution_count": null,
      "outputs": []
    },
    {
      "cell_type": "code",
      "source": [
        "# Vẽ histogram cho nhóm 'yes'\n",
        "plt.figure(figsize=(12, 12))\n",
        "df_no.hist(figsize=(12, 12))\n",
        "plt.suptitle(\"Tần suất các thuộc tính với khách hàng gửi tiền (deposit = no)\", fontsize=16)\n",
        "plt.show()"
      ],
      "metadata": {
        "id": "KxB3MgvinwXu"
      },
      "id": "KxB3MgvinwXu",
      "execution_count": null,
      "outputs": []
    },
    {
      "cell_type": "markdown",
      "source": [
        "####Nhận xét về 2 biểu đồ với deposit(yes/no):\n",
        " 1. Age (Tuổi)\n",
        "Cả hai nhóm khách hàng gửi tiền (yes) và không gửi tiền (no) đều tập trung nhiều trong độ tuổi 30–40. Tuy nhiên, nhóm gửi tiền có độ tuổi phân bố rộng hơn, đặc biệt xuất hiện nhiều hơn ở các nhóm tuổi từ 50 trở lên. Điều này cho thấy người lớn tuổi hơn có xu hướng gửi tiền cao hơn, có thể do họ có sự ổn định tài chính và nhu cầu tiết kiệm lớn hơn.\n",
        " 2. Balance (Số dư tài khoản)\n",
        "Cả hai nhóm đều có phần lớn khách hàng với số dư thấp. Tuy vậy, ở nhóm gửi tiền, có một số lượng đáng kể khách hàng có số dư cao hơn rất nhiều, lên đến hàng chục nghìn. Điều này cho thấy những khách hàng có số dư tài khoản cao thường có khả năng gửi tiền cao hơn – đây là một chỉ báo tài chính quan trọng cần được đưa vào mô hình dự đoán.\n",
        " 3. Day (Ngày gọi)\n",
        "Phân bố ngày gọi trong tháng ở hai nhóm gần như giống nhau và khá đồng đều. Không có sự khác biệt rõ rệt giữa khách hàng gửi và không gửi tiền theo ngày gọi. Vì vậy, thuộc tính này có thể ít tác động đến quyết định gửi tiền, hoặc không phải là yếu tố chính.\n",
        " 4. Month (Tháng gọi)\n",
        "Ở nhóm không gửi tiền, số lượng khách hàng tập trung rất nhiều trong tháng 5, cho thấy đây có thể là tháng chiến dịch gọi diễn ra mạnh nhưng không hiệu quả. Ngược lại, nhóm gửi tiền có phân bố đều hơn ở các tháng khác, như tháng 8 và 10. Điều này gợi ý rằng tháng gọi ảnh hưởng đến hiệu quả chiến dịch, và cần cân nhắc lại chiến lược tiếp cận trong từng thời điểm cụ thể.\n",
        " 5. Duration (Thời lượng cuộc gọi)\n",
        "Đây là một trong những thuộc tính thể hiện sự khác biệt rõ rệt nhất. Nhóm gửi tiền có nhiều cuộc gọi kéo dài hơn, trong khi nhóm không gửi chủ yếu là những cuộc gọi rất ngắn. Có thể thấy rằng thời lượng cuộc gọi càng dài thì khả năng thuyết phục khách hàng gửi tiền càng cao, do đó đây là yếu tố rất quan trọng để đưa vào mô hình AI.\n",
        " 6. Campaign (Số lần liên hệ trong chiến dịch)\n",
        "Khách hàng gửi tiền thường chỉ được liên hệ 1–2 lần, trong khi nhóm không gửi có nhiều người bị gọi nhiều hơn, thậm chí tới hơn 10 lần. Việc liên hệ quá nhiều có thể tạo cảm giác làm phiền, phản tác dụng. Do đó, số lần gọi hợp lý sẽ nâng cao hiệu quả chiến dịch.\n",
        " 7. Pdays (Số ngày kể từ lần gọi trước)\n",
        "Nhóm gửi tiền có phân bố rộng hơn ở thuộc tính pdays, nghĩa là họ đã từng được gọi trước đây và khoảng thời gian giữa các lần gọi không quá xa. Trong khi đó, nhóm không gửi chủ yếu có giá trị pdays cao hoặc đặc biệt (999), tức là chưa từng được gọi. Khách hàng đã từng được chăm sóc trước đó có xu hướng gửi tiền cao hơn, nên đây cũng là một chỉ báo tốt.\n",
        " 8. Previous (Số lần liên hệ trước chiến dịch hiện tại)\n",
        "Tương tự như pdays, nhóm gửi tiền có xu hướng đã từng được tiếp cận trong quá khứ. Nhóm không gửi tiền phần lớn chưa từng được liên hệ. Điều này tiếp tục khẳng định rằng lịch sử chăm sóc khách hàng là một yếu tố quan trọng giúp nâng cao tỷ lệ gửi tiền.\n",
        "\n"
      ],
      "metadata": {
        "id": "hdWS1wwdn9Xt"
      },
      "id": "hdWS1wwdn9Xt"
    },
    {
      "cell_type": "markdown",
      "source": [
        "## *f) Ma trận tương quan giữa các biến số*"
      ],
      "metadata": {
        "id": "3Vt7amd6pX91"
      },
      "id": "3Vt7amd6pX91"
    },
    {
      "cell_type": "code",
      "source": [
        "# Thêm cột mục tiêu đã được mã hóa vào để phân tích tương quan\n",
        "# Điều này giúp ta thấy biến số nào có ảnh hưởng mạnh nhất đến kết quả\n",
        "numeric_data['deposit'] = df['deposit'].map({'yes': 1, 'no': 0})\n",
        "\n",
        "# Tính toán ma trận tương quan\n",
        "corr_numeric = numeric_data.corr()\n",
        "\n",
        "# Vẽ biểu đồ heatmap\n",
        "plt.figure(figsize=(12, 10))\n",
        "sns.heatmap(corr_numeric, annot=True, fmt='.2f', cmap='RdBu_r', cbar=True)\n",
        "plt.title(\"Ma trận Tương quan giữa các Biến số và Biến mục tiêu\", fontsize=16)\n",
        "plt.show()"
      ],
      "metadata": {
        "id": "LGGaDrziijiZ"
      },
      "id": "LGGaDrziijiZ",
      "execution_count": null,
      "outputs": []
    },
    {
      "cell_type": "markdown",
      "source": [
        "Dựa vào ma trận tương quan, ta thấy rằng biến có ảnh hưởng mạnh nhất đến quyết định gửi tiền của khách hàng là thời lượng cuộc gọi (duration), với hệ số tương quan khá cao (0.45). Điều này hoàn toàn hợp lý vì những cuộc gọi dài thường thể hiện mức độ quan tâm hoặc sự thuyết phục thành công từ phía nhân viên tư vấn. Ngoài ra, các biến liên quan đến lịch sử tương tác như pdays và previous cũng cho thấy mối liên hệ tích cực với hành vi gửi tiền – nghĩa là nếu khách hàng từng được liên hệ trước đó, họ có xu hướng dễ đồng ý hơn. Ngược lại, biến campaign lại có tương quan âm, cho thấy việc gọi quá nhiều lần trong cùng một chiến dịch có thể gây phản tác dụng, khiến khách hàng cảm thấy phiền và từ chối. Những yếu tố như tuổi (age) hay số dư tài khoản (balance) có vẻ không ảnh hưởng nhiều, vì mức tương quan với biến mục tiêu là rất nhỏ. Tóm lại, nếu muốn xây dựng một mô hình dự đoán hiệu quả, ta nên tập trung vào những yếu tố thể hiện mức độ tương tác và hiệu quả của cuộc gọi hơn là thông tin cá nhân đơn thuần."
      ],
      "metadata": {
        "id": "SbkzbQ4KpxMR"
      },
      "id": "SbkzbQ4KpxMR"
    },
    {
      "cell_type": "markdown",
      "source": [
        "## *g) Nhận xét bộ dữ liệu gốc*"
      ],
      "metadata": {
        "id": "kfU_T78MToW4"
      },
      "id": "kfU_T78MToW4"
    },
    {
      "cell_type": "markdown",
      "source": [
        "###I. Điểm Tốt (Có thể giữ lại hoặc sử dụng trực tiếp)\n",
        "\n",
        "Sự Cân Bằng của Biến Mục Tiêu (deposit):\n",
        "\n",
        "- Hiện trạng: Tỷ lệ giữa lớp \"Gửi tiền\" (47.4%) và \"Không gửi tiền\" (52.6%) gần như là 1:1.\n",
        "- Đánh giá: Đây là ưu điểm lớn nhất của bộ dữ liệu. Nó cho phép chúng ta xây dựng mô hình mà không cần áp dụng các kỹ thuật xử lý mất cân bằng phức tạp (như SMOTE hay điều chỉnh trọng số lớp). Mô hình sẽ học được đặc điểm của cả hai lớp một cách công bằng, và các chỉ số đánh giá như độ chính xác (accuracy) sẽ trở nên đáng tin cậy hơn.\n",
        "\n",
        "Tính Hoàn Chỉnh của Dữ liệu (Không có giá trị thiếu):\n",
        "\n",
        "- Hiện trạng: Bộ dữ liệu không chứa các ô giá trị bị bỏ trống (null/NaN).\n",
        "- Đánh giá: Điều này giúp chúng ta tiết kiệm được một bước xử lý dữ liệu phức tạp là điền giá trị thiếu (imputation). Dữ liệu sạch và đầy đủ cho phép chúng ta tiến thẳng đến các bước xử lý quan trọng hơn.\n"
      ],
      "metadata": {
        "id": "QkEonyoTUG1B"
      },
      "id": "QkEonyoTUG1B"
    },
    {
      "cell_type": "markdown",
      "source": [
        "###II. Điểm Cần Cải Thiện (Yêu cầu Tiền xử lý)\n",
        "\n",
        "Sự tồn tại của Dữ liệu dạng Chuỗi (Categorical Data):\n",
        "\n",
        "- Hiện trạng: Rất nhiều cột quan trọng đang ở định dạng văn bản, không phải dạng số. Ví dụ: job, marital, education, contact, poutcome, month. Các cột nhị phân như default, housing, loan, deposit cũng đang là 'yes'/'no'.\n",
        "- Vấn đề: Mô hình ANN chỉ có thể xử lý các con số. Nó không hiểu được giá trị \"management\" hay \"married\" có ý nghĩa gì.\n",
        "\n",
        "Giải pháp tiền xử lý:\n",
        "\n",
        "- Mã hóa One-Hot (One-Hot Encoding): Đối với các cột có nhiều hơn hai loại giá trị (ví dụ: job, education), chúng ta cần chuyển mỗi giá trị thành một cột nhị phân (0/1) riêng biệt.\n",
        "- Mã hóa Nhị phân (Binary Encoding): Đối với các cột chỉ có hai giá trị 'yes'/'no' (ví dụ: housing, loan, và chính cột deposit), chúng ta sẽ chuyển đổi chúng thành 0 và 1.\n",
        "\n",
        "Sự khác biệt về Thang đo giữa các Biến số:\n",
        "- Hiện trạng: Các cột số có đơn vị và khoảng giá trị rất khác nhau. Ví dụ, balance (số dư tài khoản) có thể lên tới hàng chục nghìn, trong khi campaign (số lần liên hệ) thường chỉ là những con số nhỏ.\n",
        "- Vấn đề: Khi đưa vào mô hình ANN, các thuộc tính có giá trị lớn (như balance) sẽ \"lấn át\" và có tác động không cân xứng lên quá trình học so với các thuộc tính có giá trị nhỏ, làm cho mô hình hội tụ chậm và kém hiệu quả.\n",
        "\n",
        "Giải pháp tiền xử lý:\n",
        "- Chuẩn hóa Dữ liệu (Scaling): Chúng ta cần đưa tất cả các biến số về một thang đo chung. Phương pháp phổ biến là Standardization (Chuẩn hóa Z-score), giúp biến đổi dữ liệu sao cho có giá trị trung bình bằng 0 và độ lệch chuẩn bằng 1."
      ],
      "metadata": {
        "id": "lObtisdLVOoj"
      },
      "id": "lObtisdLVOoj"
    },
    {
      "cell_type": "markdown",
      "source": [
        "#**TIỀN XỬ LÝ DỮ LIỆU**"
      ],
      "metadata": {
        "id": "B0cPa9mtnKdc"
      },
      "id": "B0cPa9mtnKdc"
    },
    {
      "cell_type": "markdown",
      "source": [
        "###Kiểm tra thông tin dữ liệu của các thuộc tính"
      ],
      "metadata": {
        "id": "7-u-vLnrpuQW"
      },
      "id": "7-u-vLnrpuQW"
    },
    {
      "cell_type": "code",
      "source": [
        "for col in df.columns:\n",
        "    print(df.groupby([col]).size())"
      ],
      "metadata": {
        "colab": {
          "base_uri": "https://localhost:8080/"
        },
        "id": "Rq9WDO5rnSmc",
        "outputId": "d081b4d9-1294-4030-f78e-80bd617bf26b"
      },
      "id": "Rq9WDO5rnSmc",
      "execution_count": 17,
      "outputs": [
        {
          "output_type": "stream",
          "name": "stdout",
          "text": [
            "age\n",
            "18     8\n",
            "19    13\n",
            "20    20\n",
            "21    30\n",
            "22    48\n",
            "      ..\n",
            "89     1\n",
            "90     2\n",
            "92     2\n",
            "93     2\n",
            "95     1\n",
            "Length: 76, dtype: int64\n",
            "job\n",
            "admin.           1334\n",
            "blue-collar      1944\n",
            "entrepreneur      328\n",
            "housemaid         274\n",
            "management       2566\n",
            "retired           778\n",
            "self-employed     405\n",
            "services          923\n",
            "student           360\n",
            "technician       1823\n",
            "unemployed        357\n",
            "unknown            70\n",
            "dtype: int64\n",
            "marital\n",
            "divorced    1293\n",
            "married     6351\n",
            "single      3518\n",
            "dtype: int64\n",
            "education\n",
            "primary      1500\n",
            "secondary    5476\n",
            "tertiary     3689\n",
            "unknown       497\n",
            "dtype: int64\n",
            "default\n",
            "no     10994\n",
            "yes      168\n",
            "dtype: int64\n",
            "balance\n",
            "-6847     1\n",
            "-3058     1\n",
            "-2712     1\n",
            "-2282     1\n",
            "-2049     1\n",
            "         ..\n",
            " 51439    1\n",
            " 52587    2\n",
            " 56831    1\n",
            " 66653    1\n",
            " 81204    2\n",
            "Length: 3805, dtype: int64\n",
            "housing\n",
            "no     5881\n",
            "yes    5281\n",
            "dtype: int64\n",
            "loan\n",
            "no     9702\n",
            "yes    1460\n",
            "dtype: int64\n",
            "contact\n",
            "cellular     8042\n",
            "telephone     774\n",
            "unknown      2346\n",
            "dtype: int64\n",
            "day\n",
            "1     122\n",
            "2     334\n",
            "3     306\n",
            "4     402\n",
            "5     477\n",
            "6     447\n",
            "7     382\n",
            "8     419\n",
            "9     364\n",
            "10    163\n",
            "11    373\n",
            "12    445\n",
            "13    453\n",
            "14    463\n",
            "15    466\n",
            "16    369\n",
            "17    411\n",
            "18    548\n",
            "19    384\n",
            "20    570\n",
            "21    452\n",
            "22    269\n",
            "23    245\n",
            "24    122\n",
            "25    224\n",
            "26    252\n",
            "27    284\n",
            "28    410\n",
            "29    388\n",
            "30    478\n",
            "31    140\n",
            "dtype: int64\n",
            "month\n",
            "apr     923\n",
            "aug    1519\n",
            "dec     110\n",
            "feb     776\n",
            "jan     344\n",
            "jul    1514\n",
            "jun    1222\n",
            "mar     276\n",
            "may    2824\n",
            "nov     943\n",
            "oct     392\n",
            "sep     319\n",
            "dtype: int64\n",
            "duration\n",
            "2       1\n",
            "3       1\n",
            "4       2\n",
            "5       4\n",
            "6       6\n",
            "       ..\n",
            "3102    1\n",
            "3183    1\n",
            "3253    1\n",
            "3284    1\n",
            "3881    1\n",
            "Length: 1428, dtype: int64\n",
            "campaign\n",
            "1     4798\n",
            "2     3028\n",
            "3     1321\n",
            "4      771\n",
            "5      378\n",
            "6      265\n",
            "7      139\n",
            "8      128\n",
            "9       72\n",
            "10      52\n",
            "11      40\n",
            "12      29\n",
            "13      30\n",
            "14      15\n",
            "15      13\n",
            "16       9\n",
            "17      14\n",
            "18       8\n",
            "19       5\n",
            "20       5\n",
            "21       8\n",
            "22       4\n",
            "23       3\n",
            "24       5\n",
            "25       3\n",
            "26       3\n",
            "27       1\n",
            "28       1\n",
            "29       2\n",
            "30       4\n",
            "31       1\n",
            "32       2\n",
            "33       1\n",
            "41       1\n",
            "43       2\n",
            "63       1\n",
            "dtype: int64\n",
            "pdays\n",
            "-1      8324\n",
            " 1         8\n",
            " 2         8\n",
            " 4         1\n",
            " 5         2\n",
            "        ... \n",
            " 805       1\n",
            " 826       1\n",
            " 828       1\n",
            " 842       1\n",
            " 854       1\n",
            "Length: 472, dtype: int64\n",
            "previous\n",
            "0     8324\n",
            "1      887\n",
            "2      693\n",
            "3      435\n",
            "4      244\n",
            "5      165\n",
            "6      117\n",
            "7       77\n",
            "8       60\n",
            "9       34\n",
            "10      30\n",
            "11      23\n",
            "12      16\n",
            "13      11\n",
            "14       6\n",
            "15       5\n",
            "16       2\n",
            "17      11\n",
            "18       1\n",
            "19       4\n",
            "20       2\n",
            "21       1\n",
            "22       1\n",
            "23       2\n",
            "26       1\n",
            "27       2\n",
            "28       1\n",
            "29       1\n",
            "30       1\n",
            "37       1\n",
            "40       1\n",
            "41       1\n",
            "55       1\n",
            "58       1\n",
            "dtype: int64\n",
            "poutcome\n",
            "failure    1228\n",
            "other       537\n",
            "success    1071\n",
            "unknown    8326\n",
            "dtype: int64\n",
            "deposit\n",
            "no     5873\n",
            "yes    5289\n",
            "dtype: int64\n"
          ]
        }
      ]
    },
    {
      "cell_type": "markdown",
      "source": [
        "###Kiểm tra dữ liệu thiếu"
      ],
      "metadata": {
        "id": "rgckjG3BqYaJ"
      },
      "id": "rgckjG3BqYaJ"
    },
    {
      "cell_type": "code",
      "source": [
        "print('Số lượng dữ liệu bị thiếu là:')\n",
        "for col in df.columns:\n",
        "    print('\\t%s: %d' % (col,df[col].isna().sum()))"
      ],
      "metadata": {
        "colab": {
          "base_uri": "https://localhost:8080/"
        },
        "id": "FJrMr4U2qbjr",
        "outputId": "8f5bf0a2-9ed6-496c-cf9e-71f1d77d8159"
      },
      "id": "FJrMr4U2qbjr",
      "execution_count": 18,
      "outputs": [
        {
          "output_type": "stream",
          "name": "stdout",
          "text": [
            "Số lượng dữ liệu bị thiếu là:\n",
            "\tage: 0\n",
            "\tjob: 0\n",
            "\tmarital: 0\n",
            "\teducation: 0\n",
            "\tdefault: 0\n",
            "\tbalance: 0\n",
            "\thousing: 0\n",
            "\tloan: 0\n",
            "\tcontact: 0\n",
            "\tday: 0\n",
            "\tmonth: 0\n",
            "\tduration: 0\n",
            "\tcampaign: 0\n",
            "\tpdays: 0\n",
            "\tprevious: 0\n",
            "\tpoutcome: 0\n",
            "\tdeposit: 0\n"
          ]
        }
      ]
    },
    {
      "cell_type": "code",
      "source": [
        "print('Số lượng bản ghi bị trùng lặp là:')\n",
        "len(df)-len(df.drop_duplicates())"
      ],
      "metadata": {
        "colab": {
          "base_uri": "https://localhost:8080/"
        },
        "id": "kxqwbMdRqiVk",
        "outputId": "85503e26-00c1-4f61-82bb-1c1a2d6de8d2"
      },
      "id": "kxqwbMdRqiVk",
      "execution_count": 19,
      "outputs": [
        {
          "output_type": "stream",
          "name": "stdout",
          "text": [
            "Số lượng bản ghi bị trùng lặp là:\n"
          ]
        },
        {
          "output_type": "execute_result",
          "data": {
            "text/plain": [
              "0"
            ]
          },
          "metadata": {},
          "execution_count": 19
        }
      ]
    },
    {
      "cell_type": "code",
      "source": [
        "print(df.dtypes)"
      ],
      "metadata": {
        "colab": {
          "base_uri": "https://localhost:8080/"
        },
        "id": "QWs980H5qldz",
        "outputId": "f4e2b6f6-4f0b-48a4-f2bc-101243630c5c"
      },
      "id": "QWs980H5qldz",
      "execution_count": 20,
      "outputs": [
        {
          "output_type": "stream",
          "name": "stdout",
          "text": [
            "age           int64\n",
            "job          object\n",
            "marital      object\n",
            "education    object\n",
            "default      object\n",
            "balance       int64\n",
            "housing      object\n",
            "loan         object\n",
            "contact      object\n",
            "day           int64\n",
            "month        object\n",
            "duration      int64\n",
            "campaign      int64\n",
            "pdays         int64\n",
            "previous      int64\n",
            "poutcome     object\n",
            "deposit      object\n",
            "dtype: object\n"
          ]
        }
      ]
    },
    {
      "cell_type": "markdown",
      "source": [
        "###Chia tập dữ liệu train và test"
      ],
      "metadata": {
        "id": "6gAU73toqpbB"
      },
      "id": "6gAU73toqpbB"
    },
    {
      "cell_type": "code",
      "source": [
        "# Tách biến độc lập (X) và biến mục tiêu (y)\n",
        "X = df.drop('deposit', axis=1)\n",
        "y = df['deposit'].map({'yes': 1, 'no': 0})\n",
        "\n",
        "# Chia dữ liệu thành tập huấn luyện và tập kiểm tra TRƯỚC KHI xử lý\n",
        "# Điều này đảm bảo không có sự rò rỉ thông tin từ tập test sang tập train\n",
        "X_train, X_test, y_train, y_test = train_test_split(X, y, test_size=0.2, random_state=42, stratify=y)"
      ],
      "metadata": {
        "id": "Ci9FHVeJqsdc"
      },
      "id": "Ci9FHVeJqsdc",
      "execution_count": 21,
      "outputs": []
    },
    {
      "cell_type": "markdown",
      "source": [
        "#### Chuyển giá trị của cột month từ dạng chữ sang số sau đó đưa về vị trí cũ để phù hợp với bài toán đang xét"
      ],
      "metadata": {
        "id": "X4OFZB0_rNKn"
      },
      "id": "X4OFZB0_rNKn"
    },
    {
      "cell_type": "code",
      "source": [
        "from datetime import datetime\n",
        "df['month_number'] = df['month'].apply(lambda x: datetime.strptime(x, \"%b\").month)\n",
        "df = df.drop(columns=['month'])\n",
        "df = df.rename(columns={'month_number': 'month'})\n",
        "# Lấy danh sách các cột hiện tại\n",
        "columns = list(df.columns)\n",
        "# Xóa cột 'month' khỏi vị trí cũ\n",
        "columns.remove('month')\n",
        "# Xác định vị trí của cột 'day'\n",
        "day_index = columns.index('day')\n",
        "# Chèn 'month' vào ngay sau 'day'\n",
        "columns.insert(day_index + 1, 'month')\n",
        "# Sắp xếp lại DataFrame theo thứ tự cột mới\n",
        "df = df[columns]\n",
        "# Hiển thị Data sau khi thay đổi\n",
        "print(df.head())"
      ],
      "metadata": {
        "colab": {
          "base_uri": "https://localhost:8080/"
        },
        "id": "jIkO6fJ8rd2b",
        "outputId": "9bb11c5a-27d4-4415-f4d6-251bf2486341"
      },
      "id": "jIkO6fJ8rd2b",
      "execution_count": 22,
      "outputs": [
        {
          "output_type": "stream",
          "name": "stdout",
          "text": [
            "   age         job  marital  education default  balance housing loan  contact  \\\n",
            "0   59      admin.  married  secondary      no     2343     yes   no  unknown   \n",
            "1   56      admin.  married  secondary      no       45      no   no  unknown   \n",
            "2   41  technician  married  secondary      no     1270     yes   no  unknown   \n",
            "3   55    services  married  secondary      no     2476     yes   no  unknown   \n",
            "4   54      admin.  married   tertiary      no      184      no   no  unknown   \n",
            "\n",
            "   day  month  duration  campaign  pdays  previous poutcome deposit  \n",
            "0    5      5      1042         1     -1         0  unknown     yes  \n",
            "1    5      5      1467         1     -1         0  unknown     yes  \n",
            "2    5      5      1389         1     -1         0  unknown     yes  \n",
            "3    5      5       579         1     -1         0  unknown     yes  \n",
            "4    5      5       673         2     -1         0  unknown     yes  \n"
          ]
        }
      ]
    },
    {
      "cell_type": "markdown",
      "source": [
        "### Xác định các nhóm cột trong tập train"
      ],
      "metadata": {
        "id": "cEwyEgQ7rs7S"
      },
      "id": "cEwyEgQ7rs7S"
    },
    {
      "cell_type": "code",
      "source": [
        "# 1. Xác định các nhóm cột trong tập train\n",
        "numerical_features = X_train.select_dtypes(include=['int64', 'float64']).columns\n",
        "categorical_features = X_train.select_dtypes(include=['object']).columns"
      ],
      "metadata": {
        "id": "g_76luy2sHk1"
      },
      "id": "g_76luy2sHk1",
      "execution_count": 23,
      "outputs": []
    },
    {
      "cell_type": "markdown",
      "source": [
        "### Xử lý các cột dạng chữ sử dụng kỹ thuật One-Hot Encoding."
      ],
      "metadata": {
        "id": "tyTCdc17sMpW"
      },
      "id": "tyTCdc17sMpW"
    },
    {
      "cell_type": "code",
      "source": [
        "# Tạo một transformer để áp dụng One-Hot Encoding\n",
        "categorical_transformer = OneHotEncoder(handle_unknown='ignore')"
      ],
      "metadata": {
        "id": "y9CKNk-GsPmW"
      },
      "id": "y9CKNk-GsPmW",
      "execution_count": 24,
      "outputs": []
    },
    {
      "cell_type": "markdown",
      "source": [
        "### Xử lý các biến số"
      ],
      "metadata": {
        "id": "z7roS4rztW9h"
      },
      "id": "z7roS4rztW9h"
    },
    {
      "cell_type": "markdown",
      "source": [
        "#### Biểu đồ tương quan giữa các biến số"
      ],
      "metadata": {
        "id": "vq2HKoUZthZW"
      },
      "id": "vq2HKoUZthZW"
    },
    {
      "cell_type": "code",
      "source": [
        "numerical_cols = ['age', 'balance', 'duration', 'campaign', 'pdays', 'previous']\n",
        "df_numerical = df[numerical_cols]\n",
        "\n",
        "plt.figure(figsize=(15, 8))\n",
        "sns.boxplot(data=df_numerical, palette='viridis')\n",
        "plt.title('So sánh Thang đo giữa các Biến số', fontsize=16)\n",
        "plt.yscale('symlog') # Sử dụng thang đo log để quan sát các biến nhỏ dễ hơn\n",
        "plt.ylabel('Giá trị (Thang đo Log)', fontsize=12)\n",
        "plt.xlabel('Các biến số', fontsize=12)\n",
        "plt.show()"
      ],
      "metadata": {
        "colab": {
          "base_uri": "https://localhost:8080/",
          "height": 643
        },
        "id": "JxUz6CHuyT4H",
        "outputId": "3ea30cd5-cf52-45bd-dc28-c1ed2a90dea8"
      },
      "id": "JxUz6CHuyT4H",
      "execution_count": 25,
      "outputs": [
        {
          "output_type": "display_data",
          "data": {
            "text/plain": [
              "<Figure size 1500x800 with 1 Axes>"
            ],
            "image/png": "[encoded data removed]"
          },
          "metadata": {}
        }
      ]
    },
    {
      "cell_type": "markdown",
      "source": [
        "Biểu đồ hộp (boxplot) trên thể hiện cấu trúc của các biến số, có sử dụng thang đo log đối xứng cho trục tung (symlog):\n",
        "1. Vai trò của thang đo symlog: Việc sử dụng thang đo symlog giúp quan sát đồng thời các biến có thang đo rất nhỏ (ví dụ như campaign, previous) và các biến có thang đo rất lớn (ví dụ như balance, duration) một cách rõ ràng. Nếu sử dụng các thang đo tuyến tính thông thường thì các hộp của các biến có thang đo rất nhỏ như campaign, previous sẽ được biểu thị gần như là 1 đường thẳng, rất khó để quan sát.\n",
        "2. Sự khác biệt về độ phân tán (IQR - Thân hộp): Thân hộp (box) đại diện cho 50% dữ liệu nằm ở trung tâm (từ phân vị 25 đến 75 trong tứ phân vị). Nhìn vào biểu đồ bên trên, chúng ta quan sát được phần thân hộp của 2 biến số balance và duration lớn hơn đáng kể so với các biến age, campaign, pdays và previous, chứng tỏ rằng ngay cả phần dữ liệu cốt lõi của chúng cũng có độ phân tán và khoảng giá trị lớn hơn nhiều so với các biến số còn lại.\n",
        "3. Mức độ của các giá trị ngoại lai (Outliers - Các chấm tròn): Các chấm tròn bên ngoài râu của hộp xếp chồng lên nhau chính là các giá trị ngoại lai. Biến số balance có rất nhiều giá trị ngoại lai ở cả hai phía âm và dương, một số điểm vươn tới các giá trị cực kì lớn. 2 biến số duration và pdays cũng có nhiều giá trị ngoại lai đáng chú ý. Ngay cả 2 biến số có thang đo nhỏ như campaign và previous cũng tồn tại các giá trị ngoại lai.\n",
        "4. Kết luận: Dựa vào biểu đồ, chúng ta nhận thấy được cần phải thực hiện chuẩn hóa dữ liệu và có 2 vấn đề chính cần giải quyết:\n",
        "- Khác biệt thang đo: Độ lớn và độ phân tán của các biến là hoàn toàn khác nhau.\n",
        "- Tồn tại giá trị ngoại lai: Các giá trị ngoại lai có mặt ở hầu hết các biến và có thể làm sai lệch quá trình học của mô hình.\n",
        "Để giải quyết 2 vấn đề trên, chúng ta sẽ sử dụng RobustScaler, vì RobustScaler được thiết kế để xử lý hiệu quả cả 2 vấn đề này bằng cách sử dụng các đại lượng thống kê bền vững là median và IQR."
      ],
      "metadata": {
        "id": "XI1R9ckiyn-A"
      },
      "id": "XI1R9ckiyn-A"
    },
    {
      "cell_type": "markdown",
      "source": [
        "#### Tạo bảng thống kê mô tả biểu đồ"
      ],
      "metadata": {
        "id": "NJ3OvCG69nTB"
      },
      "id": "NJ3OvCG69nTB"
    },
    {
      "cell_type": "code",
      "source": [
        "# 1. Tạo một danh sách các cột số cần phân tích\n",
        "numerical_cols = ['age', 'balance', 'duration', 'campaign', 'pdays', 'previous']\n",
        "\n",
        "# 2. Chọn các cột này từ DataFrame gốc\n",
        "df_numerical = df[numerical_cols]\n",
        "\n",
        "# 3. Sử dụng hàm .describe() để tính toán và tạo bảng thống kê\n",
        "statistical_table = df_numerical.describe()\n",
        "\n",
        "# 4. In bảng kết quả ra màn hình\n",
        "print(statistical_table)"
      ],
      "metadata": {
        "colab": {
          "base_uri": "https://localhost:8080/"
        },
        "id": "1W4dvYP-9rmZ",
        "outputId": "f30215c1-2b4d-47f6-d7d7-482074ccf43d"
      },
      "id": "1W4dvYP-9rmZ",
      "execution_count": 26,
      "outputs": [
        {
          "output_type": "stream",
          "name": "stdout",
          "text": [
            "                age       balance      duration      campaign         pdays  \\\n",
            "count  11162.000000  11162.000000  11162.000000  11162.000000  11162.000000   \n",
            "mean      41.231948   1528.538524    371.993818      2.508421     51.330407   \n",
            "std       11.913369   3225.413326    347.128386      2.722077    108.758282   \n",
            "min       18.000000  -6847.000000      2.000000      1.000000     -1.000000   \n",
            "25%       32.000000    122.000000    138.000000      1.000000     -1.000000   \n",
            "50%       39.000000    550.000000    255.000000      2.000000     -1.000000   \n",
            "75%       49.000000   1708.000000    496.000000      3.000000     20.750000   \n",
            "max       95.000000  81204.000000   3881.000000     63.000000    854.000000   \n",
            "\n",
            "           previous  \n",
            "count  11162.000000  \n",
            "mean       0.832557  \n",
            "std        2.292007  \n",
            "min        0.000000  \n",
            "25%        0.000000  \n",
            "50%        0.000000  \n",
            "75%        1.000000  \n",
            "max       58.000000  \n"
          ]
        }
      ]
    },
    {
      "cell_type": "markdown",
      "source": [
        "1. So sánh độ phân tán (std - Độ lệch chuẩn):\n",
        "- Độ lệch chuẩn của balance là 3225.41.\n",
        "- Độ lệch chuẩn của campaign chỉ là 2.72.\n",
        "- Dựa vào 2 độ lệch chuẩn trên ta thấy mức độ phân tán của dữ liệu balance lớn hơn 1185 lần so với campaign, Một mô hình như ANN sẽ dễ bị hiểu lầm rằng balance là một thuộc tính quan trọng hơn thuộc tính campaign hơn 1000 lần.\n",
        "2. So sánh khoảng giá trị (min và max):\n",
        "- balance có khoảng giá trị cực kì lớn, từ -6847 (khoảng âm này có thể là thấu chi - rút tiền vượt quá số dư trong tài khoản ngân hàng) đến 81204.\n",
        "- age chỉ chạy từ 18 đến 95.\n",
        "- campaign chỉ chạy từ 1 đến 63.\n",
        "- Dựa vào 3 khoảng giá trị trên, ta thấy giá trị lớn nhất của balance lớn hơn giá trị lớn nhất của campaign tới 1288 lần. Sự chênh lệch rất lớn này sẽ khiến các thuật toán dựa trên khoảng cách như KNN hoặc dựa trên gradient như ANN hoạt động không chính xác.\n",
        "3. Bằng chứng về giá trị ngoại lai (so sánh 50% và max):\n",
        "- 50% khách hàng có số dư tài khoản dưới 550 (50% hay median) nhưng giá trị lớn nhất lại lên tới 81204. Điều này cho thấy phần lớn dữ liệu tập trung ở một khoảng giá trị thấp nhưng có một số ít các giá trị rất lớn (outliers) đang kéo toàn bộ thang đo của biến này ra xa. Đây chính là lý do việc sử dụng RobustScaler - dựa trên median và IQR, sẽ hiệu quả hơn StandardScaler - dựa trên mean và std.\n",
        "4. Kết luận:\n",
        "Dựa trên các thông số định lượng trên, chúng ta thấy được rằng việc chuẩn hóa thang đo là một yêu cầu bắt buộc. Nếu không thực hiện thì mô hình sẽ bị chi phối bởi các đặc điểm có thang đo lớn một cách tùy tiện, dẫn đến kết quả dự báo không đáng tin cậy. Dữ liệu này chứng minh sự cần thiết phải áp dụng một phương pháp chuẩn hóa mạnh mẽ, sử dụng RobustScaler, để đảm bảo tất cả các thuộc tính đều có cơ hội đóng góp một cách công bằng vào mô hình."
      ],
      "metadata": {
        "id": "syI4q7fj9wcr"
      },
      "id": "syI4q7fj9wcr"
    },
    {
      "cell_type": "markdown",
      "source": [
        "### Sử dụng RobustScaler chuẩn hóa các cột dữ liệu dạng số"
      ],
      "metadata": {
        "id": "cXMQsRbv9zfK"
      },
      "id": "cXMQsRbv9zfK"
    },
    {
      "cell_type": "code",
      "source": [
        "from sklearn.preprocessing import RobustScaler\n",
        "numeric_transformer = RobustScaler()"
      ],
      "metadata": {
        "id": "5uBjkNYC94gr"
      },
      "id": "5uBjkNYC94gr",
      "execution_count": 27,
      "outputs": []
    },
    {
      "cell_type": "markdown",
      "source": [
        "### Kết hợp"
      ],
      "metadata": {
        "id": "8iAffoiXBqe9"
      },
      "id": "8iAffoiXBqe9"
    },
    {
      "cell_type": "code",
      "source": [
        "from sklearn.compose import ColumnTransformer\n",
        "# 3. Kết hợp các bước xử lý\n",
        "preprocessor = ColumnTransformer(\n",
        "    transformers=[\n",
        "        ('num', numeric_transformer, numerical_features),\n",
        "        ('cat', categorical_transformer, categorical_features)\n",
        "    ])"
      ],
      "metadata": {
        "id": "hvazjeXgB5QW"
      },
      "id": "hvazjeXgB5QW",
      "execution_count": 28,
      "outputs": []
    },
    {
      "cell_type": "markdown",
      "source": [
        "\n",
        "### Đưa về tập train và *test*"
      ],
      "metadata": {
        "id": "7mJN0BaIB9L8"
      },
      "id": "7mJN0BaIB9L8"
    },
    {
      "cell_type": "code",
      "source": [
        "# 4. Fit và transform trên tập train\n",
        "X_train_processed = preprocessor.fit_transform(X_train)\n",
        "\n",
        "# 5. Chỉ transform trên tập test\n",
        "X_test_processed = preprocessor.transform(X_test)\n",
        "\n",
        "print(\"Tiền xử lý hoàn tất!\")\n",
        "print(f\"Số lượng cột ban đầu: {X_train.shape[1]}\")\n",
        "print(f\"Số lượng cột sau khi xử lý: {X_train_processed.shape[1]}\")"
      ],
      "metadata": {
        "id": "8e6-OdvPB_Vt",
        "outputId": "dd24dbaa-29b4-4b2e-8dbe-5ccdcf0636a1",
        "colab": {
          "base_uri": "https://localhost:8080/"
        }
      },
      "id": "8e6-OdvPB_Vt",
      "execution_count": 29,
      "outputs": [
        {
          "output_type": "stream",
          "name": "stdout",
          "text": [
            "Tiền xử lý hoàn tất!\n",
            "Số lượng cột ban đầu: 16\n",
            "Số lượng cột sau khi xử lý: 51\n"
          ]
        }
      ]
    },
    {
      "cell_type": "markdown",
      "source": [
        "###Phân tích bộ dữ liệu trước khi huấn luyện"
      ],
      "metadata": {
        "id": "aDUHzMrnrnOB"
      },
      "id": "aDUHzMrnrnOB"
    },
    {
      "cell_type": "code",
      "source": [
        "# Kích thước của dữ liệu huấn luyện gốc\n",
        "print(f\"Kích thước X_train gốc: {X_train.shape}\")\n",
        "\n",
        "# Kích thước của dữ liệu huấn luyện sau khi xử lý\n",
        "# Dữ liệu này có thể là một ma trận thưa (sparse matrix)\n",
        "print(f\"Kích thước X_train sau xử lý: {X_train_processed.shape}\")"
      ],
      "metadata": {
        "id": "9qWznl40ry_I",
        "outputId": "22f8f55d-41f8-46ea-c161-f7052945b0cf",
        "colab": {
          "base_uri": "https://localhost:8080/"
        }
      },
      "id": "9qWznl40ry_I",
      "execution_count": 31,
      "outputs": [
        {
          "output_type": "stream",
          "name": "stdout",
          "text": [
            "Kích thước X_train gốc: (8929, 16)\n",
            "Kích thước X_train sau xử lý: (8929, 51)\n"
          ]
        }
      ]
    },
    {
      "cell_type": "markdown",
      "source": [
        "Có thể thấy số hàng được giữ nguyên, nhưng số cột đã tăng lên đáng kể (ví dụ, từ 16 lên 51). Điều này xác nhận rằng các cột phân loại đã được \"nở\" ra thành nhiều cột nhị phân mới."
      ],
      "metadata": {
        "id": "KZ2oE7q5s63h"
      },
      "id": "KZ2oE7q5s63h"
    },
    {
      "cell_type": "code",
      "source": [
        "# Lấy ra danh sách các cột số\n",
        "numerical_features = X_train.select_dtypes(include=['int64', 'float64']).columns\n",
        "\n",
        "# Chỉ áp dụng RobustScaler lên các cột số của tập train\n",
        "X_train_numerical_scaled = preprocessor.named_transformers_['num'].transform(X_train[numerical_features])\n",
        "\n",
        "# Chuyển kết quả thành DataFrame để dễ phân tích\n",
        "df_scaled_numerical = pd.DataFrame(X_train_numerical_scaled, columns=numerical_features)\n",
        "\n",
        "# Sử dụng .describe() để xem bảng thống kê sau khi chuẩn hóa\n",
        "print(\"Bảng thống kê các biến số SAU KHI chuẩn hóa bằng RobustScaler:\")\n",
        "print(df_scaled_numerical.describe().round(2))"
      ],
      "metadata": {
        "id": "JXk-zg-qtaay",
        "outputId": "8f9567e9-f6cf-48a6-d127-b8143f610442",
        "colab": {
          "base_uri": "https://localhost:8080/"
        }
      },
      "id": "JXk-zg-qtaay",
      "execution_count": 32,
      "outputs": [
        {
          "output_type": "stream",
          "name": "stdout",
          "text": [
            "Bảng thống kê các biến số SAU KHI chuẩn hóa bằng RobustScaler:\n",
            "           age  balance      day  duration  campaign    pdays  previous\n",
            "count  8929.00  8929.00  8929.00   8929.00   8929.00  8929.00   8929.00\n",
            "mean      0.12     0.59     0.05      0.33      0.25     1.35      0.83\n",
            "std       0.70     1.89     0.60      0.97      1.39     2.80      2.33\n",
            "min      -1.24    -4.71    -1.00     -0.71     -0.50     0.00      0.00\n",
            "25%      -0.41    -0.27    -0.50     -0.33     -0.50     0.00      0.00\n",
            "50%       0.00     0.00     0.00      0.00      0.00     0.00      0.00\n",
            "75%       0.59     0.73     0.50      0.67      0.50     1.00      1.00\n",
            "max       3.29    51.31     1.14      8.54     30.50    21.92     58.00\n"
          ]
        }
      ]
    },
    {
      "cell_type": "markdown",
      "source": [
        "###1. Kiểm tra kết quả chuẩn hóa bằng RobustScaler\n",
        "- Khi áp dụng RobustScaler, mục tiêu chính là đưa các biến số về cùng\n",
        "một thang đo, bằng cách lấy giá trị gốc trừ đi giá trị trung vị (median) và tất cả chia cho khoảng tứ phân vị (IQR).\n",
        "Kết quả bảng thống kê sau khi chuẩn hóa đã cho thấy quá trình này diễn ra đúng như mong đợi.\n",
        "\n",
        "- Lúc đó , giá trị trung vị (50%) của các cột đều bằng 0. Đây là dấu hiệu rõ ràng nhất cho thấy dữ liệu đã được dịch chuyển về trung tâm — đúng với nguyên lý hoạt động của RobustScaler.\n",
        "\n",
        "- Ngoài ra, khoảng giá trị giữa Q1 (25%) và Q3 (75%) của các cột đã được thu hẹp và trở nên đồng đều hơn. Ví dụ, ở cột age, khoảng giữa Q3 và Q1 là 0.59 - (-0.41) = 1.0. Với cột campaign, cũng tương tự, khoảng giữa là 1.0. Điều này cho thấy sau khi chuẩn hóa, các biến số không còn chênh lệch quá lớn về thang đo, giúp đảm bảo rằng không có biến nào “lấn át” các biến khác trong quá trình huấn luyện mô hình.\n",
        "\n",
        "###2. Bảo toàn đặc điểm của dữ liệu gốc\n",
        "- RobustScaler không làm mất đi đặc tính phân bố tự nhiên của dữ liệu.\n",
        "- Giá trị trung bình (mean) sau chuẩn hóa không bằng 0, điều này là hợp lý vì RobustScaler không căn chỉnh theo mean. Ví dụ, mean của balance sau chuẩn hóa vẫn là 0.59 — phản ánh đúng bản chất phân bố lệch (skewed) của biến này, và giúp mô hình có thể học được đặc điểm này.\n",
        "- Các giá trị ngoại lai (outliers) vẫn được giữ lại. Ví dụ, giá trị lớn nhất của balance sau chuẩn hóa vẫn lên đến 51.31. Vậy thấy được rằng RobustScaler không \"xóa\" hay \"nén\" các giá trị ngoại lai một cách cưỡng ép. Thay vào đó, nó giúp phần trung tâm của dữ liệu được chuẩn hóa hợp lý, còn các giá trị ngoại biên vẫn được bảo toàn để mô hình có thể tiếp cận nếu cần thiết.\n",
        "\n",
        "### 3 Kết luận\n",
        "Qua đó ta thấy rằng kết quả kiểm tra cho thấy việc chuẩn hóa bằng RobustScaler đã diễn ra hiệu quả:\n",
        "- Dữ liệu các cột số đã được đưa về cùng một thang đo một cách ổn định.\n",
        "- Ảnh hưởng của các giá trị ngoại lai đã được giảm thiểu đáng kể.\n",
        "- Đặc tính phân bố gốc của dữ liệu vẫn được giữ lại, giúp mô hình học được các mối quan hệ thực chất trong dữ liệu."
      ],
      "metadata": {
        "id": "yV3j7TXmthPM"
      },
      "id": "yV3j7TXmthPM"
    },
    {
      "cell_type": "markdown",
      "source": [
        "### Kiểm tra Kết quả của OneHotEncoder trên các Biến Phân loại"
      ],
      "metadata": {
        "id": "lBRadD73u678"
      },
      "id": "lBRadD73u678"
    },
    {
      "cell_type": "code",
      "source": [
        "# Lấy ra danh sách các cột phân loại\n",
        "categorical_features = X_train.select_dtypes(include=['object']).columns\n",
        "\n",
        "# Chỉ áp dụng OneHotEncoder lên các cột phân loại của tập train\n",
        "X_train_categorical_encoded = preprocessor.named_transformers_['cat'].transform(X_train[categorical_features])\n",
        "\n",
        "# In ra 5 dòng đầu tiên của ma trận kết quả\n",
        "# .toarray() chuyển ma trận thưa thành ma trận dày đặc để xem\n",
        "print(\"5 dòng đầu tiên của các biến phân loại SAU KHI One-Hot Encoding:\")\n",
        "print(X_train_categorical_encoded.toarray()[:5, :])"
      ],
      "metadata": {
        "id": "v7dJpbsSu8O-",
        "outputId": "ebfb6e70-5d5e-4599-9d80-400daff3cb3a",
        "colab": {
          "base_uri": "https://localhost:8080/"
        }
      },
      "id": "v7dJpbsSu8O-",
      "execution_count": 33,
      "outputs": [
        {
          "output_type": "stream",
          "name": "stdout",
          "text": [
            "5 dòng đầu tiên của các biến phân loại SAU KHI One-Hot Encoding:\n",
            "[[1. 0. 0. 0. 0. 0. 0. 0. 0. 0. 0. 0. 0. 1. 0. 0. 1. 0. 0. 1. 0. 1. 0. 0.\n",
            "  1. 1. 0. 0. 0. 0. 0. 0. 0. 1. 0. 0. 0. 0. 0. 0. 0. 0. 0. 1.]\n",
            " [1. 0. 0. 0. 0. 0. 0. 0. 0. 0. 0. 0. 0. 1. 0. 0. 0. 1. 0. 1. 0. 1. 0. 1.\n",
            "  0. 1. 0. 0. 0. 0. 0. 0. 0. 0. 0. 0. 0. 0. 0. 1. 0. 0. 1. 0.]\n",
            " [0. 0. 0. 0. 0. 0. 0. 0. 0. 1. 0. 0. 0. 0. 1. 0. 1. 0. 0. 1. 0. 1. 0. 0.\n",
            "  1. 1. 0. 0. 0. 0. 0. 0. 1. 0. 0. 0. 0. 0. 0. 0. 0. 0. 1. 0.]\n",
            " [0. 0. 0. 0. 0. 0. 0. 0. 0. 1. 0. 0. 0. 1. 0. 0. 1. 0. 0. 1. 0. 0. 1. 1.\n",
            "  0. 1. 0. 0. 0. 0. 0. 0. 0. 0. 0. 0. 0. 1. 0. 0. 0. 0. 0. 1.]\n",
            " [0. 1. 0. 0. 0. 0. 0. 0. 0. 0. 0. 0. 0. 0. 1. 0. 0. 0. 1. 1. 0. 1. 0. 1.\n",
            "  0. 1. 0. 0. 0. 0. 0. 0. 0. 0. 0. 0. 0. 0. 0. 1. 0. 0. 0. 1.]]\n"
          ]
        }
      ]
    },
    {
      "cell_type": "markdown",
      "source": [
        "- Sau khi mã hóa, ta thu được một ma trận mà các giá trị trong đó chỉ gồm 0 và 1. Ở mỗi dòng, có một vài số 1 xuất hiện, tương ứng với các đặc trưng gốc của bản ghi đó (chẳng hạn: job = 'management', marital = 'married', v.v.). Các vị trí còn lại trong dòng sẽ là 0.\n",
        "- Điều này cho thấy quá trình mã hóa One-Hot Encoding đã được thực hiện đúng, dữ liệu đã sẵn sàng để đưa vào mô hình học."
      ],
      "metadata": {
        "id": "Pcqm2FMJvBaP"
      },
      "id": "Pcqm2FMJvBaP"
    }
  ],
  "metadata": {
    "colab": {
      "provenance": [],
      "include_colab_link": true
    },
    "language_info": {
      "name": "python"
    },
    "kernelspec": {
      "name": "python3",
      "display_name": "Python 3"
    }
  },
  "nbformat": 4,
  "nbformat_minor": 5
}